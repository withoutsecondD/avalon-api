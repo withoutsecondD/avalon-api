{
 "cells": [
  {
   "cell_type": "code",
   "execution_count": 1,
   "id": "initial_id",
   "metadata": {
    "collapsed": true,
    "ExecuteTime": {
     "end_time": "2025-05-19T16:38:30.582735Z",
     "start_time": "2025-05-19T16:38:29.857733Z"
    }
   },
   "outputs": [],
   "source": [
    "import pandas as pd\n",
    "import numpy as np"
   ]
  },
  {
   "cell_type": "code",
   "execution_count": null,
   "outputs": [],
   "source": [
    "attr_df = pd.read_csv(\"/kaggle/input/celeba-dataset/list_attr_celeba.csv\")\n",
    "attr_df = attr_df[[\"image_id\", \"Smiling\"]]\n",
    "attr_df[\"Smiling\"] = attr_df[\"Smiling\"].map({1: 1, -1: 0})\n",
    "\n",
    "landmarks_df = pd.read_csv(\"/kaggle/input/celeba-dataset/list_landmarks_align_celeba.csv\")\n",
    "landmarks_df.reset_index(inplace=True)\n",
    "landmarks_df.rename(columns={\"index\": \"img_id\"}, inplace=True)\n",
    "\n",
    "df = pd.merge(attr_df, landmarks_df, on=\"image_id\")\n",
    "\n",
    "df[\"mouth_width\"] = df[\"rightmouth_x\"] - df[\"leftmouth_x\"]\n",
    "df[\"mouth_height\"] = ((df[\"rightmouth_y\"] + df[\"leftmouth_y\"]) / 2) - df[\"nose_y\"]\n",
    "df[\"mouth_slope\"] = (df[\"rightmouth_y\"] - df[\"leftmouth_y\"]) / (\n",
    "        df[\"rightmouth_x\"] - df[\"leftmouth_x\"] + 1e-5\n",
    ")\n",
    "\n",
    "features = df[[\"mouth_width\", \"mouth_height\", \"mouth_slope\"]]\n",
    "labels = df[\"Smiling\"]\n",
    "\n",
    "from sklearn.preprocessing import StandardScaler\n",
    "scaler = StandardScaler()\n",
    "features_scaled = scaler.fit_transform(features)\n",
    "\n",
    "from sklearn.model_selection import train_test_split\n",
    "X_train, X_test, y_train, y_test = train_test_split(features_scaled, labels, test_size=0.2, stratify=labels, random_state=42)\n",
    "\n",
    "df[\"Smiling\"] = df[\"Smiling\"].astype(str)"
   ],
   "metadata": {
    "collapsed": false
   },
   "id": "1ed2fa6b6974e328"
  },
  {
   "cell_type": "code",
   "execution_count": null,
   "outputs": [],
   "source": [
    "from tensorflow.keras.preprocessing.image import ImageDataGenerator\n",
    "\n",
    "datagen = ImageDataGenerator(\n",
    "    rescale=1./255,\n",
    "    validation_split=0.2\n",
    ")\n",
    "\n",
    "image_dir = \"/kaggle/input/celeba-dataset/img_align_celeba/img_align_celeba\"\n",
    "\n",
    "train_generator = datagen.flow_from_dataframe(\n",
    "    dataframe=df,\n",
    "    directory=image_dir,\n",
    "    x_col=\"image_id\",\n",
    "    y_col=\"Smiling\",\n",
    "    target_size=(224, 224),\n",
    "    batch_size=32,\n",
    "    class_mode=\"binary\",\n",
    "    subset=\"training\"\n",
    ")\n",
    "\n",
    "val_generator = datagen.flow_from_dataframe(\n",
    "    dataframe=df,\n",
    "    directory=image_dir,\n",
    "    x_col=\"image_id\",\n",
    "    y_col=\"Smiling\",\n",
    "    target_size=(224, 224),\n",
    "    batch_size=32,\n",
    "    class_mode=\"binary\",\n",
    "    subset=\"validation\"\n",
    ")"
   ],
   "metadata": {
    "collapsed": false
   },
   "id": "af2574310a6ca0b6"
  },
  {
   "cell_type": "code",
   "execution_count": null,
   "outputs": [],
   "source": [
    "from tensorflow.keras.applications import MobileNetV2\n",
    "from tensorflow.keras.models import Model\n",
    "from tensorflow.keras.layers import GlobalAveragePooling2D, Dense, Dropout\n",
    "from tensorflow.keras.optimizers import Adam\n",
    "\n",
    "base_model = MobileNetV2(weights=\"imagenet\", include_top=False, input_shape=(224, 224, 3))\n",
    "\n",
    "base_model.trainable = False\n",
    "\n",
    "x = base_model.output\n",
    "x = GlobalAveragePooling2D()(x)\n",
    "x = Dropout(0.2)(x)\n",
    "x = Dense(64, activation=\"relu\")(x)\n",
    "x = Dropout(0.2)(x)\n",
    "predictions = Dense(1, activation=\"sigmoid\")(x)\n",
    "\n",
    "model = Model(inputs=base_model.input, outputs=predictions)"
   ],
   "metadata": {
    "collapsed": false
   },
   "id": "c54347a852290492"
  },
  {
   "cell_type": "code",
   "execution_count": null,
   "outputs": [],
   "source": [
    "model.compile(optimizer=Adam(learning_rate=1e-4),\n",
    "              loss=\"binary_crossentropy\",\n",
    "              metrics=[\"accuracy\"])\n",
    "\n",
    "history = model.fit(\n",
    "    train_generator,\n",
    "    validation_data=val_generator,\n",
    "    epochs=5\n",
    ")"
   ],
   "metadata": {
    "collapsed": false
   },
   "id": "c5709b5404338d78"
  },
  {
   "cell_type": "code",
   "execution_count": null,
   "outputs": [],
   "source": [
    "base_model.trainable = True\n",
    "model.compile(optimizer=Adam(1e-5), loss=\"binary_crossentropy\", metrics=[\"accuracy\"])\n",
    "\n",
    "model.fit(train_generator, validation_data=val_generator, epochs=5)"
   ],
   "metadata": {
    "collapsed": false
   },
   "id": "76e6067cee3f3625"
  },
  {
   "cell_type": "code",
   "execution_count": null,
   "outputs": [],
   "source": [
    "model.export(\"saved_model/smile_detector\")"
   ],
   "metadata": {
    "collapsed": false
   },
   "id": "fbb186c0657bbf9c"
  },
  {
   "cell_type": "code",
   "execution_count": null,
   "outputs": [],
   "source": [
    "# Here is import of data\n",
    "\n",
    "# from google.colab import files\n",
    "# import shutil\n",
    "# \n",
    "# shutil.make_archive('savedModelSmilingDetector', 'zip', '/content/saved_model')\n",
    "# files.download('savedModelSmilingDetector.zip')"
   ],
   "metadata": {
    "collapsed": false
   },
   "id": "b2b0bffc92c72887"
  },
  {
   "cell_type": "code",
   "execution_count": null,
   "outputs": [],
   "source": [
    "import tensorflow as tf\n",
    "\n",
    "model = tf.keras.models.load_model(\"/content/keras_model/smile_detector.keras\")"
   ],
   "metadata": {
    "collapsed": false
   },
   "id": "1ab7805b41ba24d0"
  },
  {
   "cell_type": "code",
   "execution_count": null,
   "outputs": [],
   "source": [
    "from tensorflow.keras.preprocessing import image\n",
    "import numpy as np\n",
    "\n",
    "def preprocess_image(image_path):\n",
    "    img = image.load_img(image_path, target_size=(224, 224))\n",
    "    img_array = image.img_to_array(img) / 255.0\n",
    "    img_array = np.expand_dims(img_array, axis=0)\n",
    "    return img_array"
   ],
   "metadata": {
    "collapsed": false
   },
   "id": "f744a847bc4d0fcc"
  },
  {
   "cell_type": "code",
   "execution_count": null,
   "outputs": [],
   "source": [
    "img_array = preprocess_image(\"/content/images/1.jpg\")\n",
    "prediction = model.predict(img_array)[0][0]\n",
    "\n",
    "label = \"Smiling\" if prediction > 0.8 else \"Not Smiling\"\n",
    "confidence = round(prediction if prediction > 0.9 else 1 - prediction, 3)\n",
    "\n",
    "print(f\"{label} with confidence {confidence}\")"
   ],
   "metadata": {
    "collapsed": false
   },
   "id": "511ba9b7839c7dce"
  },
  {
   "cell_type": "markdown",
   "source": [
    "# Development pipeline of CNN MobilenetV2 model\n",
    "### The whole model built on 6 layers with base model layer from keras, regulirization, pooling, two dense layers with RELU and Sigmoid activators, and predictions layer with image tensor preprocess.\n",
    "\n",
    "During the analysis and dataset annotations preprocessing I discovered that actually celebrities not really grumpy and always smiling at paparazzi and trying play with them. That is why our model incomplete at finding if person on image genuinely not smiling, and drastically good at differentiating smiling ones.\n",
    "\n",
    "For example, we getting an image where person not smiling it gives high confidence of that person is smiling between 50% and 80 %, but if person is smiling on image we receive higher than 85% of confidence, accordingly to this context we can assume the problematic of dataset being too smily. \n",
    "\n",
    "Problems with training:\n",
    "* High volume of dataset leads to prolonging the generator of training and validating batches. \n",
    "* Again high volume of dataset leads to extremely long time for training simple feature of smiling with:\n",
    "    df[\"mouth_width\"] = df[\"rightmouth_x\"] - df[\"leftmouth_x\"]\n",
    "    df[\"mouth_height\"] = ((df[\"rightmouth_y\"] + df[\"leftmouth_y\"]) / 2) - df[\"nose_y\"]\n",
    "    df[\"mouth_slope\"] = (df[\"rightmouth_y\"] - df[\"leftmouth_y\"]) / (\n",
    "        df[\"rightmouth_x\"] - df[\"leftmouth_x\"] + 1e-5\n",
    ")\n",
    "* Small preprocessing issues connected with str, int, or float casting\n",
    "\n",
    "Advantages of dataset that helps a lot:\n",
    "* Comprehensive annotations with everyting you need to understand the distance of facial features\n",
    "* Comfort format of annotations gives better understanding of how the smiling and not smiling ones distributed among the dataset \n",
    "* Resized format 224x224 for mobile models like: Mobilenet, small CNN architectures and gradient boosting performance.\n",
    "\n",
    "TO-DO:\n",
    "* I want to try extend the dataset with more non-smiling records \n",
    "* Apply gradient boosting on mobilenet as feature extractor for CatBoost pipeline learning"
   ],
   "metadata": {
    "collapsed": false
   },
   "id": "9a5c18ba6417d5da"
  },
  {
   "cell_type": "code",
   "execution_count": null,
   "outputs": [],
   "source": [],
   "metadata": {
    "collapsed": false
   },
   "id": "9929132e898ebc79"
  }
 ],
 "metadata": {
  "kernelspec": {
   "display_name": "Python 3",
   "language": "python",
   "name": "python3"
  },
  "language_info": {
   "codemirror_mode": {
    "name": "ipython",
    "version": 2
   },
   "file_extension": ".py",
   "mimetype": "text/x-python",
   "name": "python",
   "nbconvert_exporter": "python",
   "pygments_lexer": "ipython2",
   "version": "2.7.6"
  }
 },
 "nbformat": 4,
 "nbformat_minor": 5
}
