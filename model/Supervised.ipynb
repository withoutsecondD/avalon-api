{
 "cells": [
  {
   "cell_type": "code",
   "execution_count": 4,
   "id": "initial_id",
   "metadata": {
    "collapsed": true,
    "ExecuteTime": {
     "end_time": "2025-05-19T10:45:16.562386Z",
     "start_time": "2025-05-19T10:45:15.580863Z"
    }
   },
   "outputs": [],
   "source": [
    "import pandas as pd\n",
    "import numpy as np\n",
    "\n",
    "from sklearn.preprocessing import (\n",
    "    StandardScaler, MinMaxScaler, RobustScaler,\n",
    "    OneHotEncoder, LabelEncoder, OrdinalEncoder,\n",
    "    PolynomialFeatures\n",
    ")\n",
    "from sklearn.impute import SimpleImputer, KNNImputer\n",
    "\n",
    "import scipy.stats as stats\n",
    "from statsmodels.stats.outliers_influence import variance_inflation_factor\n",
    "import statsmodels.api as sm\n",
    "import statsmodels.formula.api as smf\n",
    "\n",
    "import matplotlib.pyplot as plt\n",
    "import seaborn as sns\n",
    "import plotly.express as px\n",
    "import plotly.graph_objects as go"
   ]
  },
  {
   "cell_type": "markdown",
   "source": [
    "# Data preparing and preprocessing"
   ],
   "metadata": {
    "collapsed": false
   },
   "id": "d10317108d9a92c1"
  },
  {
   "cell_type": "code",
   "execution_count": 5,
   "outputs": [],
   "source": [
    "df = pd.read_csv('./data/Global_Development_Indicators_2000_2020.csv')"
   ],
   "metadata": {
    "collapsed": false,
    "ExecuteTime": {
     "end_time": "2025-05-19T10:45:18.423264Z",
     "start_time": "2025-05-19T10:45:18.348970Z"
    }
   },
   "id": "5ef0a750652e44ca"
  },
  {
   "cell_type": "code",
   "execution_count": 6,
   "outputs": [],
   "source": [
    "df.fillna(df.mean(numeric_only=True), inplace=True)"
   ],
   "metadata": {
    "collapsed": false,
    "ExecuteTime": {
     "end_time": "2025-05-19T10:45:19.125850Z",
     "start_time": "2025-05-19T10:45:19.101849Z"
    }
   },
   "id": "78ef3839a0e3d3f0"
  },
  {
   "cell_type": "code",
   "execution_count": 7,
   "outputs": [
    {
     "name": "stdout",
     "output_type": "stream",
     "text": [
      "year                                      0\n",
      "country_code                              0\n",
      "country_name                              0\n",
      "region                                 1008\n",
      "income_group                           1029\n",
      "currency_unit                          1008\n",
      "gdp_usd                                   0\n",
      "population                                0\n",
      "gdp_per_capita                            0\n",
      "inflation_rate                            0\n",
      "unemployment_rate                         0\n",
      "fdi_pct_gdp                               0\n",
      "co2_emissions_kt                          0\n",
      "energy_use_per_capita                     0\n",
      "renewable_energy_pct                      0\n",
      "forest_area_pct                           0\n",
      "electricity_access_pct                    0\n",
      "life_expectancy                           0\n",
      "child_mortality                           0\n",
      "school_enrollment_secondary               0\n",
      "health_expenditure_pct_gdp                0\n",
      "hospital_beds_per_1000                    0\n",
      "physicians_per_1000                       0\n",
      "internet_usage_pct                        0\n",
      "mobile_subscriptions_per_100              0\n",
      "calculated_gdp_per_capita                 0\n",
      "real_economic_growth_indicator            0\n",
      "econ_opportunity_index                    0\n",
      "co2_emissions_per_capita_tons             0\n",
      "co2_intensity_per_million_gdp             0\n",
      "green_transition_score                    0\n",
      "ecological_preservation_index             0\n",
      "renewable_energy_efficiency               0\n",
      "human_development_composite               0\n",
      "healthcare_capacity_index                 0\n",
      "digital_connectivity_index                0\n",
      "health_development_ratio                  0\n",
      "education_health_ratio                    0\n",
      "years_since_2000                          0\n",
      "years_since_century                       0\n",
      "is_pandemic_period                        0\n",
      "human_development_index                   0\n",
      "climate_vulnerability_index               0\n",
      "digital_readiness_score                   0\n",
      "governance_quality_index                  0\n",
      "global_resilience_score                   0\n",
      "global_development_resilience_index       0\n",
      "dtype: int64\n"
     ]
    }
   ],
   "source": [
    "print(df.isna().sum())"
   ],
   "metadata": {
    "collapsed": false,
    "ExecuteTime": {
     "end_time": "2025-05-19T10:45:19.918050Z",
     "start_time": "2025-05-19T10:45:19.904856Z"
    }
   },
   "id": "42658e7979e6d444"
  },
  {
   "cell_type": "code",
   "execution_count": 8,
   "outputs": [],
   "source": [
    "df = df.drop(columns=['region', 'income_group', 'currency_unit'])"
   ],
   "metadata": {
    "collapsed": false,
    "ExecuteTime": {
     "end_time": "2025-05-19T10:45:20.563130Z",
     "start_time": "2025-05-19T10:45:20.557589Z"
    }
   },
   "id": "3006d0561201aef3"
  },
  {
   "cell_type": "code",
   "execution_count": 9,
   "outputs": [
    {
     "name": "stdout",
     "output_type": "stream",
     "text": [
      "year                                   0\n",
      "country_code                           0\n",
      "country_name                           0\n",
      "gdp_usd                                0\n",
      "population                             0\n",
      "gdp_per_capita                         0\n",
      "inflation_rate                         0\n",
      "unemployment_rate                      0\n",
      "fdi_pct_gdp                            0\n",
      "co2_emissions_kt                       0\n",
      "energy_use_per_capita                  0\n",
      "renewable_energy_pct                   0\n",
      "forest_area_pct                        0\n",
      "electricity_access_pct                 0\n",
      "life_expectancy                        0\n",
      "child_mortality                        0\n",
      "school_enrollment_secondary            0\n",
      "health_expenditure_pct_gdp             0\n",
      "hospital_beds_per_1000                 0\n",
      "physicians_per_1000                    0\n",
      "internet_usage_pct                     0\n",
      "mobile_subscriptions_per_100           0\n",
      "calculated_gdp_per_capita              0\n",
      "real_economic_growth_indicator         0\n",
      "econ_opportunity_index                 0\n",
      "co2_emissions_per_capita_tons          0\n",
      "co2_intensity_per_million_gdp          0\n",
      "green_transition_score                 0\n",
      "ecological_preservation_index          0\n",
      "renewable_energy_efficiency            0\n",
      "human_development_composite            0\n",
      "healthcare_capacity_index              0\n",
      "digital_connectivity_index             0\n",
      "health_development_ratio               0\n",
      "education_health_ratio                 0\n",
      "years_since_2000                       0\n",
      "years_since_century                    0\n",
      "is_pandemic_period                     0\n",
      "human_development_index                0\n",
      "climate_vulnerability_index            0\n",
      "digital_readiness_score                0\n",
      "governance_quality_index               0\n",
      "global_resilience_score                0\n",
      "global_development_resilience_index    0\n",
      "dtype: int64\n"
     ]
    }
   ],
   "source": [
    "print(df.isna().sum())"
   ],
   "metadata": {
    "collapsed": false,
    "ExecuteTime": {
     "end_time": "2025-05-19T10:45:21.118220Z",
     "start_time": "2025-05-19T10:45:21.107163Z"
    }
   },
   "id": "3c965a470bf81f3d"
  },
  {
   "cell_type": "code",
   "execution_count": 10,
   "outputs": [],
   "source": [
    "df_cleared = df.drop(columns=['years_since_2000', 'years_since_century', 'is_pandemic_period', 'human_development_composite', 'year', 'country_code', 'country_name', 'governance_quality_index', 'internet_usage_pct', 'mobile_subscriptions_per_100', 'education_health_ratio', 'global_development_resilience_index', 'co2_intensity_per_million_gdp'])"
   ],
   "metadata": {
    "collapsed": false,
    "ExecuteTime": {
     "end_time": "2025-05-19T10:45:21.673674Z",
     "start_time": "2025-05-19T10:45:21.658960Z"
    }
   },
   "id": "1fbb4549453b07f5"
  },
  {
   "cell_type": "code",
   "execution_count": 11,
   "outputs": [
    {
     "data": {
      "text/plain": "            gdp_usd    population  gdp_per_capita  inflation_rate  \\\ncount  5.556000e+03  5.556000e+03     5556.000000     5556.000000   \nmean   2.008355e+12  2.803412e+08    13795.817996        5.672921   \nstd    7.145199e+12  8.833686e+08    21356.152812       15.885464   \nmin    1.319654e+07  9.392000e+03      111.927225      -18.108630   \n25%    6.427532e+09  1.362497e+06     1523.496083        2.028945   \n50%    4.687279e+10  9.460952e+06     5071.950964        4.108692   \n75%    6.280724e+11  5.915911e+07    15383.866888        5.672921   \nmax    8.756805e+13  7.761620e+09   189487.147128      557.201817   \n\n       unemployment_rate  fdi_pct_gdp  co2_emissions_kt  \\\ncount        5556.000000  5556.000000      5.556000e+03   \nmean            7.931009     8.257269      1.121548e+06   \nstd             5.366190    54.873561      3.235446e+06   \nmin             0.100000 -1275.189986      0.000000e+00   \n25%             4.479250     1.575230      4.875000e+03   \n50%             7.016000     3.164215      6.348500e+04   \n75%             9.509250     7.301829      1.121548e+06   \nmax            37.250000  1709.765678      3.404105e+07   \n\n       energy_use_per_capita  renewable_energy_pct  forest_area_pct  ...  \\\ncount            5556.000000           5556.000000      5556.000000  ...   \nmean             2348.102738             30.136454        32.321885  ...   \nstd              2029.383933             27.030396        22.835904  ...   \nmin                 9.548060              0.000000         0.000000  ...   \n25%              1219.826064              7.038275        12.731705  ...   \n50%              2348.102738             27.649244        31.242095  ...   \n75%              2348.102738             43.762501        46.377833  ...   \nmax             22120.430302             98.342903        98.338910  ...   \n\n       green_transition_score  ecological_preservation_index  \\\ncount             5556.000000                    5556.000000   \nmean                30.136454                       1.423242   \nstd                 27.030396                       1.592646   \nmin                  0.000000                       0.000000   \n25%                  7.038275                       0.042510   \n50%                 27.649244                       1.049848   \n75%                 43.762501                       2.136633   \nmax                 98.342903                       8.682123   \n\n       renewable_energy_efficiency  healthcare_capacity_index  \\\ncount                  5556.000000                5556.000000   \nmean                      6.451143                  32.689495   \nstd                      15.145880                  67.500723   \nmin                       0.000000                   0.000000   \n25%                       0.934828                   0.000000   \n50%                       6.451143                   0.000000   \n75%                       6.451143                  32.689495   \nmax                     580.855155                 521.652851   \n\n       digital_connectivity_index  health_development_ratio  \\\ncount                 5556.000000               5556.000000   \nmean                     4.028989                  5.692028   \nstd                      3.721305                  6.334250   \nmin                      0.000000                  0.175371   \n25%                      0.385371                  1.172355   \n50%                      3.151044                  3.954014   \n75%                      7.317161                  5.692028   \nmax                     17.010630                 41.280488   \n\n       human_development_index  climate_vulnerability_index  \\\ncount              5556.000000                  5556.000000   \nmean                  0.655851                     0.355641   \nstd                   0.253182                     0.098701   \nmin                  -0.259046                     0.046064   \n25%                   0.507309                     0.279549   \n50%                   0.655851                     0.367475   \n75%                   0.870724                     0.436504   \nmax                   1.171897                     0.500000   \n\n       digital_readiness_score  global_resilience_score  \ncount              5556.000000              5556.000000  \nmean                  0.370564                 0.444183  \nstd                   0.293003                 0.260637  \nmin                   0.000000                -2.748146  \n25%                   0.094469                 0.365905  \n50%                   0.332576                 0.444183  \n75%                   0.617325                 0.532583  \nmax                   1.570052                 1.549244  \n\n[8 rows x 31 columns]",
      "text/html": "<div>\n<style scoped>\n    .dataframe tbody tr th:only-of-type {\n        vertical-align: middle;\n    }\n\n    .dataframe tbody tr th {\n        vertical-align: top;\n    }\n\n    .dataframe thead th {\n        text-align: right;\n    }\n</style>\n<table border=\"1\" class=\"dataframe\">\n  <thead>\n    <tr style=\"text-align: right;\">\n      <th></th>\n      <th>gdp_usd</th>\n      <th>population</th>\n      <th>gdp_per_capita</th>\n      <th>inflation_rate</th>\n      <th>unemployment_rate</th>\n      <th>fdi_pct_gdp</th>\n      <th>co2_emissions_kt</th>\n      <th>energy_use_per_capita</th>\n      <th>renewable_energy_pct</th>\n      <th>forest_area_pct</th>\n      <th>...</th>\n      <th>green_transition_score</th>\n      <th>ecological_preservation_index</th>\n      <th>renewable_energy_efficiency</th>\n      <th>healthcare_capacity_index</th>\n      <th>digital_connectivity_index</th>\n      <th>health_development_ratio</th>\n      <th>human_development_index</th>\n      <th>climate_vulnerability_index</th>\n      <th>digital_readiness_score</th>\n      <th>global_resilience_score</th>\n    </tr>\n  </thead>\n  <tbody>\n    <tr>\n      <th>count</th>\n      <td>5.556000e+03</td>\n      <td>5.556000e+03</td>\n      <td>5556.000000</td>\n      <td>5556.000000</td>\n      <td>5556.000000</td>\n      <td>5556.000000</td>\n      <td>5.556000e+03</td>\n      <td>5556.000000</td>\n      <td>5556.000000</td>\n      <td>5556.000000</td>\n      <td>...</td>\n      <td>5556.000000</td>\n      <td>5556.000000</td>\n      <td>5556.000000</td>\n      <td>5556.000000</td>\n      <td>5556.000000</td>\n      <td>5556.000000</td>\n      <td>5556.000000</td>\n      <td>5556.000000</td>\n      <td>5556.000000</td>\n      <td>5556.000000</td>\n    </tr>\n    <tr>\n      <th>mean</th>\n      <td>2.008355e+12</td>\n      <td>2.803412e+08</td>\n      <td>13795.817996</td>\n      <td>5.672921</td>\n      <td>7.931009</td>\n      <td>8.257269</td>\n      <td>1.121548e+06</td>\n      <td>2348.102738</td>\n      <td>30.136454</td>\n      <td>32.321885</td>\n      <td>...</td>\n      <td>30.136454</td>\n      <td>1.423242</td>\n      <td>6.451143</td>\n      <td>32.689495</td>\n      <td>4.028989</td>\n      <td>5.692028</td>\n      <td>0.655851</td>\n      <td>0.355641</td>\n      <td>0.370564</td>\n      <td>0.444183</td>\n    </tr>\n    <tr>\n      <th>std</th>\n      <td>7.145199e+12</td>\n      <td>8.833686e+08</td>\n      <td>21356.152812</td>\n      <td>15.885464</td>\n      <td>5.366190</td>\n      <td>54.873561</td>\n      <td>3.235446e+06</td>\n      <td>2029.383933</td>\n      <td>27.030396</td>\n      <td>22.835904</td>\n      <td>...</td>\n      <td>27.030396</td>\n      <td>1.592646</td>\n      <td>15.145880</td>\n      <td>67.500723</td>\n      <td>3.721305</td>\n      <td>6.334250</td>\n      <td>0.253182</td>\n      <td>0.098701</td>\n      <td>0.293003</td>\n      <td>0.260637</td>\n    </tr>\n    <tr>\n      <th>min</th>\n      <td>1.319654e+07</td>\n      <td>9.392000e+03</td>\n      <td>111.927225</td>\n      <td>-18.108630</td>\n      <td>0.100000</td>\n      <td>-1275.189986</td>\n      <td>0.000000e+00</td>\n      <td>9.548060</td>\n      <td>0.000000</td>\n      <td>0.000000</td>\n      <td>...</td>\n      <td>0.000000</td>\n      <td>0.000000</td>\n      <td>0.000000</td>\n      <td>0.000000</td>\n      <td>0.000000</td>\n      <td>0.175371</td>\n      <td>-0.259046</td>\n      <td>0.046064</td>\n      <td>0.000000</td>\n      <td>-2.748146</td>\n    </tr>\n    <tr>\n      <th>25%</th>\n      <td>6.427532e+09</td>\n      <td>1.362497e+06</td>\n      <td>1523.496083</td>\n      <td>2.028945</td>\n      <td>4.479250</td>\n      <td>1.575230</td>\n      <td>4.875000e+03</td>\n      <td>1219.826064</td>\n      <td>7.038275</td>\n      <td>12.731705</td>\n      <td>...</td>\n      <td>7.038275</td>\n      <td>0.042510</td>\n      <td>0.934828</td>\n      <td>0.000000</td>\n      <td>0.385371</td>\n      <td>1.172355</td>\n      <td>0.507309</td>\n      <td>0.279549</td>\n      <td>0.094469</td>\n      <td>0.365905</td>\n    </tr>\n    <tr>\n      <th>50%</th>\n      <td>4.687279e+10</td>\n      <td>9.460952e+06</td>\n      <td>5071.950964</td>\n      <td>4.108692</td>\n      <td>7.016000</td>\n      <td>3.164215</td>\n      <td>6.348500e+04</td>\n      <td>2348.102738</td>\n      <td>27.649244</td>\n      <td>31.242095</td>\n      <td>...</td>\n      <td>27.649244</td>\n      <td>1.049848</td>\n      <td>6.451143</td>\n      <td>0.000000</td>\n      <td>3.151044</td>\n      <td>3.954014</td>\n      <td>0.655851</td>\n      <td>0.367475</td>\n      <td>0.332576</td>\n      <td>0.444183</td>\n    </tr>\n    <tr>\n      <th>75%</th>\n      <td>6.280724e+11</td>\n      <td>5.915911e+07</td>\n      <td>15383.866888</td>\n      <td>5.672921</td>\n      <td>9.509250</td>\n      <td>7.301829</td>\n      <td>1.121548e+06</td>\n      <td>2348.102738</td>\n      <td>43.762501</td>\n      <td>46.377833</td>\n      <td>...</td>\n      <td>43.762501</td>\n      <td>2.136633</td>\n      <td>6.451143</td>\n      <td>32.689495</td>\n      <td>7.317161</td>\n      <td>5.692028</td>\n      <td>0.870724</td>\n      <td>0.436504</td>\n      <td>0.617325</td>\n      <td>0.532583</td>\n    </tr>\n    <tr>\n      <th>max</th>\n      <td>8.756805e+13</td>\n      <td>7.761620e+09</td>\n      <td>189487.147128</td>\n      <td>557.201817</td>\n      <td>37.250000</td>\n      <td>1709.765678</td>\n      <td>3.404105e+07</td>\n      <td>22120.430302</td>\n      <td>98.342903</td>\n      <td>98.338910</td>\n      <td>...</td>\n      <td>98.342903</td>\n      <td>8.682123</td>\n      <td>580.855155</td>\n      <td>521.652851</td>\n      <td>17.010630</td>\n      <td>41.280488</td>\n      <td>1.171897</td>\n      <td>0.500000</td>\n      <td>1.570052</td>\n      <td>1.549244</td>\n    </tr>\n  </tbody>\n</table>\n<p>8 rows × 31 columns</p>\n</div>"
     },
     "execution_count": 11,
     "metadata": {},
     "output_type": "execute_result"
    }
   ],
   "source": [
    "df_cleared.describe()"
   ],
   "metadata": {
    "collapsed": false,
    "ExecuteTime": {
     "end_time": "2025-05-19T10:45:22.296543Z",
     "start_time": "2025-05-19T10:45:22.255011Z"
    }
   },
   "id": "9c6be3429911fc3f"
  },
  {
   "cell_type": "code",
   "execution_count": 12,
   "outputs": [],
   "source": [
    "X_reg = df_cleared.loc[:, df_cleared.columns != 'inflation_rate']\n",
    "y_reg = df_cleared.loc[:, ['inflation_rate']]"
   ],
   "metadata": {
    "collapsed": false,
    "ExecuteTime": {
     "end_time": "2025-05-19T10:45:22.726734Z",
     "start_time": "2025-05-19T10:45:22.721963Z"
    }
   },
   "id": "d491bc936f59ba1c"
  },
  {
   "cell_type": "code",
   "execution_count": 13,
   "outputs": [],
   "source": [
    "from sklearn.model_selection import train_test_split\n",
    "X_train_linreg, X_test_linreg, y_train_linreg, y_test_linreg = train_test_split(X_reg, y_reg, test_size=0.3, random_state=42)"
   ],
   "metadata": {
    "collapsed": false,
    "ExecuteTime": {
     "end_time": "2025-05-19T10:45:23.924163Z",
     "start_time": "2025-05-19T10:45:23.897159Z"
    }
   },
   "id": "590e8b4d6d03ac54"
  },
  {
   "cell_type": "markdown",
   "source": [
    "# Multicolinearity check"
   ],
   "metadata": {
    "collapsed": false
   },
   "id": "c3692492aff8fc4"
  },
  {
   "cell_type": "code",
   "execution_count": 14,
   "outputs": [
    {
     "name": "stdout",
     "output_type": "stream",
     "text": [
      "Constant features: []\n"
     ]
    }
   ],
   "source": [
    "constant_features = [col for col in X_reg.columns if X_reg[col].nunique() == 1]\n",
    "print(\"Constant features:\", constant_features)"
   ],
   "metadata": {
    "collapsed": false,
    "ExecuteTime": {
     "end_time": "2025-05-19T10:45:31.431432Z",
     "start_time": "2025-05-19T10:45:31.410024Z"
    }
   },
   "id": "5bd8684d17ab6429"
  },
  {
   "cell_type": "code",
   "execution_count": 15,
   "outputs": [],
   "source": [
    "from statsmodels.tools.tools import add_constant\n",
    "\n",
    "X_reg_check = X_reg\n",
    "\n",
    "vif_df = pd.DataFrame()\n",
    "vif_df[\"feature\"] = X_reg_check.columns\n",
    "vif_df[\"VIF\"] = [variance_inflation_factor(X_reg_check.values, i) for i in range(X_reg_check.shape[1])]"
   ],
   "metadata": {
    "collapsed": false,
    "ExecuteTime": {
     "end_time": "2025-05-19T10:45:32.239556Z",
     "start_time": "2025-05-19T10:45:31.966645Z"
    }
   },
   "id": "a2d784a9d968b9d0"
  },
  {
   "cell_type": "code",
   "execution_count": 16,
   "outputs": [
    {
     "data": {
      "text/plain": "                           feature           VIF\n0                          gdp_usd  3.531146e+00\n1                       population  3.981302e+00\n2                   gdp_per_capita  2.591562e+03\n3                unemployment_rate  1.187858e+00\n4                      fdi_pct_gdp  1.131844e+00\n5                 co2_emissions_kt  5.352847e+00\n6            energy_use_per_capita  2.274810e+00\n7             renewable_energy_pct  1.671994e+11\n8                  forest_area_pct  4.111555e+00\n9           electricity_access_pct  5.121818e+00\n10                 life_expectancy  5.076097e+00\n11                 child_mortality  4.977124e+00\n12     school_enrollment_secondary  2.759693e+00\n13      health_expenditure_pct_gdp  1.464966e+00\n14          hospital_beds_per_1000  1.657670e+00\n15             physicians_per_1000  2.084311e+00\n16       calculated_gdp_per_capita  2.578792e+03\n17  real_economic_growth_indicator  1.003693e+00\n18          econ_opportunity_index  2.288243e+00\n19   co2_emissions_per_capita_tons  3.532139e+00\n20          green_transition_score  1.671994e+11\n21   ecological_preservation_index  3.992820e+00\n22     renewable_energy_efficiency  1.148315e+00\n23       healthcare_capacity_index  2.756124e+00\n24      digital_connectivity_index  1.443704e+01\n25        health_development_ratio  3.692375e+00\n26         human_development_index  6.320165e+00\n27     climate_vulnerability_index  1.142143e+01\n28         digital_readiness_score  1.520314e+01\n29         global_resilience_score  2.382886e+00",
      "text/html": "<div>\n<style scoped>\n    .dataframe tbody tr th:only-of-type {\n        vertical-align: middle;\n    }\n\n    .dataframe tbody tr th {\n        vertical-align: top;\n    }\n\n    .dataframe thead th {\n        text-align: right;\n    }\n</style>\n<table border=\"1\" class=\"dataframe\">\n  <thead>\n    <tr style=\"text-align: right;\">\n      <th></th>\n      <th>feature</th>\n      <th>VIF</th>\n    </tr>\n  </thead>\n  <tbody>\n    <tr>\n      <th>0</th>\n      <td>gdp_usd</td>\n      <td>3.531146e+00</td>\n    </tr>\n    <tr>\n      <th>1</th>\n      <td>population</td>\n      <td>3.981302e+00</td>\n    </tr>\n    <tr>\n      <th>2</th>\n      <td>gdp_per_capita</td>\n      <td>2.591562e+03</td>\n    </tr>\n    <tr>\n      <th>3</th>\n      <td>unemployment_rate</td>\n      <td>1.187858e+00</td>\n    </tr>\n    <tr>\n      <th>4</th>\n      <td>fdi_pct_gdp</td>\n      <td>1.131844e+00</td>\n    </tr>\n    <tr>\n      <th>5</th>\n      <td>co2_emissions_kt</td>\n      <td>5.352847e+00</td>\n    </tr>\n    <tr>\n      <th>6</th>\n      <td>energy_use_per_capita</td>\n      <td>2.274810e+00</td>\n    </tr>\n    <tr>\n      <th>7</th>\n      <td>renewable_energy_pct</td>\n      <td>1.671994e+11</td>\n    </tr>\n    <tr>\n      <th>8</th>\n      <td>forest_area_pct</td>\n      <td>4.111555e+00</td>\n    </tr>\n    <tr>\n      <th>9</th>\n      <td>electricity_access_pct</td>\n      <td>5.121818e+00</td>\n    </tr>\n    <tr>\n      <th>10</th>\n      <td>life_expectancy</td>\n      <td>5.076097e+00</td>\n    </tr>\n    <tr>\n      <th>11</th>\n      <td>child_mortality</td>\n      <td>4.977124e+00</td>\n    </tr>\n    <tr>\n      <th>12</th>\n      <td>school_enrollment_secondary</td>\n      <td>2.759693e+00</td>\n    </tr>\n    <tr>\n      <th>13</th>\n      <td>health_expenditure_pct_gdp</td>\n      <td>1.464966e+00</td>\n    </tr>\n    <tr>\n      <th>14</th>\n      <td>hospital_beds_per_1000</td>\n      <td>1.657670e+00</td>\n    </tr>\n    <tr>\n      <th>15</th>\n      <td>physicians_per_1000</td>\n      <td>2.084311e+00</td>\n    </tr>\n    <tr>\n      <th>16</th>\n      <td>calculated_gdp_per_capita</td>\n      <td>2.578792e+03</td>\n    </tr>\n    <tr>\n      <th>17</th>\n      <td>real_economic_growth_indicator</td>\n      <td>1.003693e+00</td>\n    </tr>\n    <tr>\n      <th>18</th>\n      <td>econ_opportunity_index</td>\n      <td>2.288243e+00</td>\n    </tr>\n    <tr>\n      <th>19</th>\n      <td>co2_emissions_per_capita_tons</td>\n      <td>3.532139e+00</td>\n    </tr>\n    <tr>\n      <th>20</th>\n      <td>green_transition_score</td>\n      <td>1.671994e+11</td>\n    </tr>\n    <tr>\n      <th>21</th>\n      <td>ecological_preservation_index</td>\n      <td>3.992820e+00</td>\n    </tr>\n    <tr>\n      <th>22</th>\n      <td>renewable_energy_efficiency</td>\n      <td>1.148315e+00</td>\n    </tr>\n    <tr>\n      <th>23</th>\n      <td>healthcare_capacity_index</td>\n      <td>2.756124e+00</td>\n    </tr>\n    <tr>\n      <th>24</th>\n      <td>digital_connectivity_index</td>\n      <td>1.443704e+01</td>\n    </tr>\n    <tr>\n      <th>25</th>\n      <td>health_development_ratio</td>\n      <td>3.692375e+00</td>\n    </tr>\n    <tr>\n      <th>26</th>\n      <td>human_development_index</td>\n      <td>6.320165e+00</td>\n    </tr>\n    <tr>\n      <th>27</th>\n      <td>climate_vulnerability_index</td>\n      <td>1.142143e+01</td>\n    </tr>\n    <tr>\n      <th>28</th>\n      <td>digital_readiness_score</td>\n      <td>1.520314e+01</td>\n    </tr>\n    <tr>\n      <th>29</th>\n      <td>global_resilience_score</td>\n      <td>2.382886e+00</td>\n    </tr>\n  </tbody>\n</table>\n</div>"
     },
     "execution_count": 16,
     "metadata": {},
     "output_type": "execute_result"
    }
   ],
   "source": [
    "vif_df"
   ],
   "metadata": {
    "collapsed": false,
    "ExecuteTime": {
     "end_time": "2025-05-19T10:45:33.300199Z",
     "start_time": "2025-05-19T10:45:33.294201Z"
    }
   },
   "id": "c37048e592c933e1"
  },
  {
   "cell_type": "code",
   "execution_count": 19,
   "outputs": [],
   "source": [
    "multicolineared_columns = ['internet_usage_pct', 'mobile_subscriptions_per_100', 'education_health_ratio', 'global_development_resilience_index', 'co2_intensity_per_million_gdp']"
   ],
   "metadata": {
    "collapsed": false,
    "ExecuteTime": {
     "end_time": "2025-05-19T10:45:47.945469Z",
     "start_time": "2025-05-19T10:45:47.935355Z"
    }
   },
   "id": "4cd803257dd15984"
  },
  {
   "cell_type": "markdown",
   "source": [
    "# Linear Regresion"
   ],
   "metadata": {
    "collapsed": false
   },
   "id": "e2b3456fb774e818"
  },
  {
   "cell_type": "code",
   "execution_count": 20,
   "outputs": [
    {
     "name": "stdout",
     "output_type": "stream",
     "text": [
      "                            OLS Regression Results                            \n",
      "==============================================================================\n",
      "Dep. Variable:         inflation_rate   R-squared:                       0.028\n",
      "Model:                            OLS   Adj. R-squared:                  0.022\n",
      "Method:                 Least Squares   F-statistic:                     4.186\n",
      "Date:                Mon, 19 May 2025   Prob (F-statistic):           2.80e-12\n",
      "Time:                        15:45:48   Log-Likelihood:                -16150.\n",
      "No. Observations:                3889   AIC:                         3.236e+04\n",
      "Df Residuals:                    3861   BIC:                         3.253e+04\n",
      "Df Model:                          27                                         \n",
      "Covariance Type:            nonrobust                                         \n",
      "==================================================================================================\n",
      "                                     coef    std err          t      P>|t|      [0.025      0.975]\n",
      "--------------------------------------------------------------------------------------------------\n",
      "gdp_usd                         3.467e-14   6.53e-14      0.531      0.595   -9.33e-14    1.63e-13\n",
      "population                     -1.032e-09   5.55e-10     -1.860      0.063   -2.12e-09    5.59e-11\n",
      "gdp_per_capita                 -3.596e-05      0.001     -0.066      0.947      -0.001       0.001\n",
      "unemployment_rate                 -0.0055      0.049     -0.112      0.911      -0.102       0.091\n",
      "fdi_pct_gdp                       -0.0002      0.004     -0.050      0.960      -0.009       0.009\n",
      "co2_emissions_kt                7.956e-08   1.72e-07      0.464      0.643   -2.57e-07    4.16e-07\n",
      "energy_use_per_capita             -0.0001      0.000     -0.538      0.591      -0.000       0.000\n",
      "renewable_energy_pct              -0.0078      0.011     -0.694      0.488      -0.030       0.014\n",
      "forest_area_pct                    0.0079      0.022      0.355      0.722      -0.036       0.052\n",
      "electricity_access_pct            -0.0441      0.020     -2.191      0.028      -0.084      -0.005\n",
      "life_expectancy                    0.0837      0.067      1.254      0.210      -0.047       0.214\n",
      "child_mortality                    0.0420      0.014      2.966      0.003       0.014       0.070\n",
      "school_enrollment_secondary        0.0279      0.018      1.558      0.119      -0.007       0.063\n",
      "health_expenditure_pct_gdp        -0.1216      0.120     -1.016      0.310      -0.356       0.113\n",
      "hospital_beds_per_1000             0.0605      0.188      0.322      0.747      -0.308       0.429\n",
      "physicians_per_1000                0.3056      0.318      0.960      0.337      -0.319       0.930\n",
      "calculated_gdp_per_capita       4.761e-05      0.001      0.088      0.930      -0.001       0.001\n",
      "real_economic_growth_indicator  3.062e-11      3e-10      0.102      0.919   -5.59e-10     6.2e-10\n",
      "econ_opportunity_index          7.482e-06   3.53e-05      0.212      0.832   -6.16e-05    7.66e-05\n",
      "co2_emissions_per_capita_tons      0.0068      0.100      0.068      0.946      -0.189       0.203\n",
      "green_transition_score            -0.0078      0.011     -0.694      0.488      -0.030       0.014\n",
      "ecological_preservation_index      0.4668      0.311      1.500      0.134      -0.143       1.077\n",
      "renewable_energy_efficiency       -0.0065      0.016     -0.406      0.685      -0.038       0.025\n",
      "healthcare_capacity_index          0.0021      0.006      0.344      0.731      -0.010       0.014\n",
      "digital_connectivity_index        -0.5987      0.252     -2.373      0.018      -1.093      -0.104\n",
      "health_development_ratio          -0.0702      0.076     -0.924      0.356      -0.219       0.079\n",
      "human_development_index           -0.0054      2.477     -0.002      0.998      -4.861       4.850\n",
      "climate_vulnerability_index        5.6172      8.575      0.655      0.512     -11.194      22.428\n",
      "digital_readiness_score            4.9823      3.269      1.524      0.128      -1.427      11.392\n",
      "global_resilience_score           -4.6931      1.382     -3.396      0.001      -7.403      -1.984\n",
      "==============================================================================\n",
      "Omnibus:                     9002.935   Durbin-Watson:                   2.015\n",
      "Prob(Omnibus):                  0.000   Jarque-Bera (JB):         65797955.290\n",
      "Skew:                          22.415   Prob(JB):                         0.00\n",
      "Kurtosis:                     638.646   Cond. No.                     1.00e+16\n",
      "==============================================================================\n",
      "\n",
      "Notes:\n",
      "[1] Standard Errors assume that the covariance matrix of the errors is correctly specified.\n",
      "[2] The condition number is large,  1e+16. This might indicate that there are\n",
      "strong multicollinearity or other numerical problems.\n"
     ]
    }
   ],
   "source": [
    "model_linreg = sm.OLS(y_train_linreg, X_train_linreg).fit()\n",
    "print(model_linreg.summary())"
   ],
   "metadata": {
    "collapsed": false,
    "ExecuteTime": {
     "end_time": "2025-05-19T10:45:48.773928Z",
     "start_time": "2025-05-19T10:45:48.702996Z"
    }
   },
   "id": "1725b040553f0bf9"
  },
  {
   "cell_type": "code",
   "execution_count": 21,
   "outputs": [
    {
     "name": "stdout",
     "output_type": "stream",
     "text": [
      "4456     7.300157\n",
      "4626     9.740071\n",
      "2802     4.021171\n",
      "230      6.912679\n",
      "3872     5.747388\n",
      "          ...    \n",
      "3166     3.330062\n",
      "5512     2.257291\n",
      "1427     2.380475\n",
      "3869     4.267966\n",
      "5290    12.518856\n",
      "Length: 1667, dtype: float64\n"
     ]
    }
   ],
   "source": [
    "preds_new = model_linreg.predict(X_test_linreg)\n",
    "print(preds_new)"
   ],
   "metadata": {
    "collapsed": false,
    "ExecuteTime": {
     "end_time": "2025-05-19T10:45:49.131504Z",
     "start_time": "2025-05-19T10:45:49.126624Z"
    }
   },
   "id": "58aaa54f2c926c59"
  },
  {
   "cell_type": "code",
   "execution_count": 22,
   "outputs": [
    {
     "name": "stdout",
     "output_type": "stream",
     "text": [
      "R^2: 0.028438804428820075\n"
     ]
    }
   ],
   "source": [
    "r2 = model_linreg.rsquared\n",
    "print('R^2:', r2)"
   ],
   "metadata": {
    "collapsed": false,
    "ExecuteTime": {
     "end_time": "2025-05-19T10:45:49.661092Z",
     "start_time": "2025-05-19T10:45:49.646525Z"
    }
   },
   "id": "7d0422fa350c4970"
  },
  {
   "cell_type": "code",
   "execution_count": 23,
   "outputs": [],
   "source": [
    "from sklearn.metrics import mean_absolute_error, mean_squared_error, r2_score"
   ],
   "metadata": {
    "collapsed": false,
    "ExecuteTime": {
     "end_time": "2025-05-19T10:45:50.188680Z",
     "start_time": "2025-05-19T10:45:50.181604Z"
    }
   },
   "id": "e4de80decab5b4d2"
  },
  {
   "cell_type": "code",
   "execution_count": 24,
   "outputs": [
    {
     "name": "stdout",
     "output_type": "stream",
     "text": [
      "RMSE: 261.6237722008474\n",
      "R^2: 0.038026047739232904\n",
      "MAE: 4.1611325886124755\n",
      "MSE: 261.6237722008474\n"
     ]
    }
   ],
   "source": [
    "mae_linreg = mean_absolute_error(y_test_linreg, preds_new)\n",
    "mse_linreg = mean_squared_error(y_test_linreg, preds_new)\n",
    "rmse_linreg = mean_squared_error(y_test_linreg, preds_new)\n",
    "r2_linreg = r2_score(y_test_linreg, preds_new)\n",
    "\n",
    "print(f'RMSE: {rmse_linreg}')\n",
    "print(f'R^2: {r2_linreg}')\n",
    "print(f'MAE: {mae_linreg}')\n",
    "print(f'MSE: {mse_linreg}')"
   ],
   "metadata": {
    "collapsed": false,
    "ExecuteTime": {
     "end_time": "2025-05-19T10:45:50.648399Z",
     "start_time": "2025-05-19T10:45:50.640055Z"
    }
   },
   "id": "f988d6283e3ec27e"
  },
  {
   "cell_type": "markdown",
   "source": [
    "# Logistic Regression"
   ],
   "metadata": {
    "collapsed": false
   },
   "id": "3089aa53e5950097"
  },
  {
   "cell_type": "code",
   "execution_count": 25,
   "outputs": [],
   "source": [
    "df_cleared_class = df.drop(columns=['years_since_2000', 'years_since_century', 'human_development_composite', 'year', 'country_code', 'country_name', 'governance_quality_index', 'internet_usage_pct', 'mobile_subscriptions_per_100', 'education_health_ratio', 'global_development_resilience_index', 'co2_intensity_per_million_gdp'])"
   ],
   "metadata": {
    "collapsed": false,
    "ExecuteTime": {
     "end_time": "2025-05-19T10:45:51.989612Z",
     "start_time": "2025-05-19T10:45:51.926888Z"
    }
   },
   "id": "f41fb8b1c4615c2c"
  },
  {
   "cell_type": "code",
   "execution_count": 26,
   "outputs": [],
   "source": [
    "X_class = df_cleared_class.loc[:, df_cleared_class.columns != 'is_pandemic_period']\n",
    "y_class = df_cleared_class.loc[:, ['is_pandemic_period']]"
   ],
   "metadata": {
    "collapsed": false,
    "ExecuteTime": {
     "end_time": "2025-05-19T10:45:52.472154Z",
     "start_time": "2025-05-19T10:45:52.448965Z"
    }
   },
   "id": "5d7b6083471f7b0d"
  },
  {
   "cell_type": "code",
   "execution_count": 27,
   "outputs": [],
   "source": [
    "y_class = np.ravel(y_class)\n",
    "y_reg = np.ravel(y_reg)"
   ],
   "metadata": {
    "collapsed": false,
    "ExecuteTime": {
     "end_time": "2025-05-19T10:45:53.090521Z",
     "start_time": "2025-05-19T10:45:53.079682Z"
    }
   },
   "id": "a7e85539d848f1cd"
  },
  {
   "cell_type": "code",
   "execution_count": 28,
   "outputs": [],
   "source": [
    "X_train_logreg, X_test_logreg, y_train_logreg, y_test_logreg = train_test_split(X_class, y_class, test_size=0.3, random_state=42)"
   ],
   "metadata": {
    "collapsed": false,
    "ExecuteTime": {
     "end_time": "2025-05-19T10:45:53.805187Z",
     "start_time": "2025-05-19T10:45:53.793345Z"
    }
   },
   "id": "eb00d51e145bc0a2"
  },
  {
   "cell_type": "code",
   "execution_count": 29,
   "outputs": [],
   "source": [
    "from sklearn.linear_model import LogisticRegression\n",
    "from sklearn.model_selection import train_test_split\n",
    "from sklearn.metrics import accuracy_score, roc_auc_score, log_loss"
   ],
   "metadata": {
    "collapsed": false,
    "ExecuteTime": {
     "end_time": "2025-05-19T10:45:54.512863Z",
     "start_time": "2025-05-19T10:45:54.463748Z"
    }
   },
   "id": "5edc8cce5a9adfb2"
  },
  {
   "cell_type": "markdown",
   "source": [
    "## Logistic regression with LBFGS, L2 regulirization, tolerance 0.001, Regularization factor - 1/C = 0.05 \n",
    "\n",
    "\\begin{aligned}\n",
    "& \\text{Input: Initial guess } w_0, \\text{ parameters } m \\\\\n",
    "& \\text{Initialize: } H_0 = I \\text{ (identity matrix)}, s_0 = \\text{undefined}, y_0 = \\text{undefined} \\\\\n",
    "& \\text{For } k = 1, 2, \\dots \\text{ until convergence:} \\\\\n",
    "& \\quad 1. \\text{Compute the gradient: } g_k = \\nabla f(w_{k-1}) \\\\\n",
    "& \\quad 2. \\text{Compute the search direction: } p_k = -H_{k-1} g_k \\\\\n",
    "& \\quad 3. \\text{Perform a line search to find a step size } \\alpha_k > 0 \\text{ such that } f(w_{k-1} + \\alpha_k p_k) \\text{ is sufficiently decreased.} \\\\\n",
    "& \\quad 4. \\text{Update the parameters: } w_k = w_{k-1} + \\alpha_k p_k \\\\\n",
    "& \\quad 5. \\text{Compute } s_{k-1} = w_k - w_{k-1} = \\alpha_k p_k \\\\\n",
    "& \\quad 6. \\text{Compute } y_{k-1} = g_k - g_{k-1} \\\\\n",
    "& \\quad 7. \\text{Update the inverse Hessian approximation } H_k \\text{ using the L-BFGS update rule based on } (s_{k-1}, y_{k-1}) \\text{ and potentially the } m \\text{ most recent pairs.} \\\\\n",
    "& \\quad \\quad \\text{The two-loop recursion for updating } H_k \\text{ efficiently is often used here.} \\\\\n",
    "& \\text{Output: } w_k \\text{ (the approximate minimizer)}\n",
    "\\end{aligned}"
   ],
   "metadata": {
    "collapsed": false
   },
   "id": "a94540dd6850010c"
  },
  {
   "cell_type": "code",
   "execution_count": null,
   "outputs": [],
   "source": [
    "model_logit = LogisticRegression(penalty='l2', tol=1e-4, C=20, solver='lbfgs')\n",
    "model_logit.fit(X_train_logreg, y_train_logreg)\n",
    "\n",
    "probs_logit = model_logit.predict_proba(X_test_logreg)[:, 1]\n",
    "preds_logit = model_logit.predict(X_test_logreg)\n",
    "\n",
    "print('Accuracy:', accuracy_score(y_test_logreg, preds_logit))\n",
    "print('ROC AUC:', roc_auc_score(y_test_logreg, probs_logit))\n",
    "print('Log Loss:', log_loss(y_test_logreg, probs_logit))"
   ],
   "metadata": {
    "collapsed": false
   },
   "id": "bd77e15d6c5c1321"
  },
  {
   "cell_type": "markdown",
   "source": [
    "## Logistic regression with saga, elasticnet, tolerance 0.01, Regularization factor - 1/C = 0.05, l1_ration=0.7\n",
    "Apparently in those kind of economical and high numerical dimension what really matters it is solver, how actually the gradient in built, is it counting all numerical features, or trying avoid some. We can actually see that Saga performing better than LBFGS, because of stochastic nature of SAGA and elasticnet regulirization factor. Moreover, SAGA saving information of previous step gradients, it is giving better performance of gradient how to understand the distribution and loss function antology. \n",
    "$$\n",
    "\\min_{w} \\left[ f(w) = \\frac{1}{n} \\sum_{i=1}^{n} f_i(w) + \\lambda R(w) \\right]\n",
    "$$\n",
    "\n",
    "$$\n",
    "w^{k+1} = w^k - \\eta \\left( \\nabla f_j(w^k) - \\alpha_j + \\frac{1}{n} \\sum_{i=1}^n \\alpha_i + \\lambda \\nabla R(w^k) \\right)\n",
    "$$\n"
   ],
   "metadata": {
    "collapsed": false
   },
   "id": "ecbcee6b25fbdfe"
  },
  {
   "cell_type": "code",
   "execution_count": null,
   "outputs": [],
   "source": [
    "model_logit = LogisticRegression(penalty='elasticnet', tol=1e-3, C=100, solver='saga', l1_ratio=0.7)\n",
    "model_logit.fit(X_train_logreg, y_train_logreg)\n",
    "\n",
    "probs = model_logit.predict_proba(X_test_logreg)[:, 1]\n",
    "preds = model_logit.predict(X_test_logreg)\n",
    "\n",
    "print('Accuracy:', accuracy_score(y_test_logreg, preds))\n",
    "print('ROC AUC:', roc_auc_score(y_test_logreg, probs))\n",
    "print('Log Loss:', log_loss(y_test_logreg, probs))\n",
    "\n",
    "acc_logit = accuracy_score(y_test_logreg, preds)\n",
    "roc_auc_score_logit = roc_auc_score(y_test_logreg, probs)\n",
    "log_loss_logit = log_loss(y_test_logreg, probs)"
   ],
   "metadata": {
    "collapsed": false
   },
   "id": "dbfba48496e6c852"
  },
  {
   "cell_type": "markdown",
   "source": [
    "# Decision Tree Classifier"
   ],
   "metadata": {
    "collapsed": false
   },
   "id": "883820329bc220d4"
  },
  {
   "cell_type": "code",
   "execution_count": null,
   "outputs": [],
   "source": [
    "from sklearn.tree import DecisionTreeClassifier, DecisionTreeRegressor\n",
    "from sklearn.metrics import accuracy_score, mean_squared_error, mean_absolute_error, r2_score"
   ],
   "metadata": {
    "collapsed": false
   },
   "id": "8a5b01f12e516548"
  },
  {
   "cell_type": "code",
   "execution_count": null,
   "outputs": [],
   "source": [
    "X_train_clf, X_test_clf, y_train_clf, y_test_clf = train_test_split(X_class, y_class, test_size=0.3, random_state=42)\n",
    "\n",
    "X_train_tree_clf = X_train_clf\n",
    "y_train_tree_clf = np.ravel(y_train_clf)\n",
    "\n",
    "from sklearn.model_selection import cross_val_score\n",
    "\n",
    "cv_scores_decisionTree_clf = []\n",
    "\n",
    "max_depth_range = range(1, 26)\n",
    "\n",
    "for i in max_depth_range:\n",
    "    tree_clf = DecisionTreeClassifier(max_depth=i, random_state=42, criterion='entropy')\n",
    "    scores = cross_val_score(tree_clf, X_train_tree_clf, y_train_tree_clf, cv=5, scoring='f1')\n",
    "    cv_scores_decisionTree_clf.append(scores.mean())\n",
    "    i+=5\n",
    "\n",
    "best_maxdepth_tree_clf = max_depth_range[np.argmax(cv_scores_decisionTree_clf)]\n",
    "print(f'Best k: {best_maxdepth_tree_clf} with f1 score: {max(cv_scores_decisionTree_clf):.4f}')\n",
    "\n",
    "plt.plot(max_depth_range, cv_scores_decisionTree_clf, marker='o')\n",
    "plt.xlabel('k')\n",
    "plt.ylabel('CV f1_score')\n",
    "plt.title('Decision Tree Classifier Cross-Validation f1_score')\n",
    "plt.grid(True)\n",
    "plt.show()"
   ],
   "metadata": {
    "collapsed": false
   },
   "id": "3b06fa184afdc86f"
  },
  {
   "cell_type": "code",
   "execution_count": null,
   "outputs": [],
   "source": [
    "best_f1_score_tree_clf = max(cv_scores_decisionTree_clf)"
   ],
   "metadata": {
    "collapsed": false
   },
   "id": "645f0061e6427927"
  },
  {
   "cell_type": "markdown",
   "source": [
    "# Decision Tree Regressor"
   ],
   "metadata": {
    "collapsed": false
   },
   "id": "f52bcfd4929fd9be"
  },
  {
   "cell_type": "code",
   "execution_count": null,
   "outputs": [],
   "source": [
    "X_train_tree_reg = X_train_linreg\n",
    "y_train_tree_reg = np.ravel(y_train_linreg)\n",
    "\n",
    "from sklearn.model_selection import cross_val_score\n",
    "\n",
    "cv_scores_decisionTree_reg = []\n",
    "\n",
    "max_depth_range = range(1, 26)\n",
    "\n",
    "for i in max_depth_range:\n",
    "    tree_reg = DecisionTreeRegressor(max_depth=i, random_state=42, criterion='absolute_error')\n",
    "    scores = cross_val_score(tree_reg, X_train_tree_reg, y_train_tree_reg, cv=5, scoring='d2_absolute_error_score')\n",
    "    cv_scores_decisionTree_reg.append(scores.mean())\n",
    "    i+=5\n",
    "\n",
    "best_maxdepth_tree_reg = max_depth_range[np.argmax(cv_scores_decisionTree_reg)]\n",
    "print(f'Best k: {best_maxdepth_tree_reg} with d2_absolute_error score: {max(cv_scores_decisionTree_reg):.4f}')\n",
    "\n",
    "plt.plot(max_depth_range, cv_scores_decisionTree_reg, marker='o')\n",
    "plt.xlabel('k')\n",
    "plt.ylabel('CV absolute_error')\n",
    "plt.title('Decision Tree Regressor Cross-Validation absolute error')\n",
    "plt.grid(True)\n",
    "plt.show()\n"
   ],
   "metadata": {
    "collapsed": false
   },
   "id": "a578c7855b07622e"
  },
  {
   "cell_type": "code",
   "execution_count": null,
   "outputs": [],
   "source": [
    "best_d2_mae_dtree_reg = max(cv_scores_decisionTree_reg)\n",
    "print(best_d2_mae_dtree_reg)"
   ],
   "metadata": {
    "collapsed": false
   },
   "id": "3aa7243da7f7f640"
  },
  {
   "cell_type": "markdown",
   "source": [
    "# Random Forest"
   ],
   "metadata": {
    "collapsed": false
   },
   "id": "43189b7c3a771cbf"
  },
  {
   "cell_type": "code",
   "execution_count": null,
   "outputs": [],
   "source": [
    "from sklearn.ensemble import RandomForestClassifier, RandomForestRegressor\n",
    "\n",
    "y_train_clf = np.ravel(y_train_clf)\n",
    "\n",
    "forest_clf = RandomForestClassifier(n_estimators=50, max_depth=5, random_state=42, criterion='entropy')\n",
    "forest_clf.fit(X_train_clf, y_train_clf)\n",
    "y_pred_forest_clf = forest_clf.predict(X_test_clf)\n",
    "\n",
    "print('Accuracy:', accuracy_score(y_test_clf, y_pred_forest_clf) )\n",
    "\n",
    "acc_forest_clf = accuracy_score(y_test_clf, y_pred_forest_clf)"
   ],
   "metadata": {
    "collapsed": false
   },
   "id": "a86c9417bee00047"
  },
  {
   "cell_type": "code",
   "execution_count": null,
   "outputs": [],
   "source": [
    "y_train_tree_reg = np.ravel(y_train_tree_reg)\n",
    "\n",
    "reg = RandomForestRegressor(n_estimators=5, max_depth=5, random_state=42, criterion='absolute_error')\n",
    "reg.fit(X_train_tree_reg, y_train_tree_reg)\n",
    "y_pred_forest_reg = reg.predict(X_test_linreg)\n",
    "\n",
    "print('MAE:', mean_absolute_error(y_test_linreg, y_pred_forest_reg))\n",
    "\n",
    "mae_random_reg = mean_absolute_error(y_test_linreg, y_pred_forest_reg)"
   ],
   "metadata": {
    "collapsed": false
   },
   "id": "28cca250c4663783"
  },
  {
   "cell_type": "markdown",
   "source": [
    "# Naive Bayess Classifier"
   ],
   "metadata": {
    "collapsed": false
   },
   "id": "6adfda88c7e2a3dc"
  },
  {
   "cell_type": "code",
   "execution_count": null,
   "outputs": [],
   "source": [
    "from sklearn.naive_bayes import GaussianNB\n",
    "from sklearn.preprocessing import LabelEncoder\n",
    "\n",
    "X_NB = X_class\n",
    "y_NB = np.ravel(y_class)\n",
    "\n",
    "X_train_NB, X_test_NB, y_train_NB, y_test_NB = train_test_split(X_NB, y_NB, random_state=42, test_size=0.3)\n",
    "\n",
    "\n",
    "NB = GaussianNB()\n",
    "NB.fit(X_train_NB, y_train_NB)\n",
    "y_pred_NB = NB.predict(X_test_NB)\n",
    "\n",
    "print('Accuracy:', accuracy_score(y_test_NB, y_pred_NB))\n",
    "\n",
    "acc_nb = accuracy_score(y_test_NB, y_pred_NB)"
   ],
   "metadata": {
    "collapsed": false
   },
   "id": "8297aafb2f9d4105"
  },
  {
   "cell_type": "markdown",
   "source": [
    "## Results of Naive Bayes Classifier showing that still the dataset having really good composition and distribution, extremely predictable, cleared from colinearity, having thorough feature clearing, and numerical nature. Nevertheless, we can assume that this high numerical dependence giving such a low sensivity for events and probability distribution for this type of dataset. During the whole analysis we can mark up that high level of numerical nature of dataset giving outstanding results for region classifying and regression, but in a case of probability classifying it gives gradually lower results of Accuracy."
   ],
   "metadata": {
    "collapsed": false
   },
   "id": "75a3fb56c37feb71"
  },
  {
   "cell_type": "markdown",
   "source": [
    "# kNN"
   ],
   "metadata": {
    "collapsed": false
   },
   "id": "d2b304319e8ba359"
  },
  {
   "cell_type": "code",
   "execution_count": null,
   "outputs": [],
   "source": [
    "from sklearn.neighbors import KNeighborsClassifier, KNeighborsRegressor\n",
    "from sklearn.model_selection import cross_val_score\n",
    "\n",
    "k_range = [i for i in range(1, 22) if i % 2 != 0]\n",
    "cv_scores_knn_clf = []\n",
    "\n",
    "X_knn_clf = X_class\n",
    "y_knn_clf = np.ravel(y_class)\n",
    "\n",
    "\n",
    "for k in k_range:\n",
    "    kNN_clf = KNeighborsClassifier(n_neighbors=k, metric='manhattan')\n",
    "    scores = cross_val_score(kNN_clf, X_knn_clf, y_knn_clf, cv=5, scoring='accuracy')\n",
    "    cv_scores_knn_clf.append(scores.mean())\n",
    "\n",
    "best_k_clf = k_range[np.argmax(cv_scores_knn_clf)]\n",
    "print(f'Best k: {best_k_clf} with accuracy: {max(cv_scores_knn_clf):.4f}')\n",
    "\n",
    "plt.plot(k_range, cv_scores_knn_clf, marker='o')\n",
    "plt.xlabel('k')\n",
    "plt.ylabel('CV Accuracy')\n",
    "plt.title('kNN_clf Cross-Validation Accuracy')\n",
    "plt.grid(True)\n",
    "plt.show()\n",
    "print(cv_scores_knn_clf)"
   ],
   "metadata": {
    "collapsed": false
   },
   "id": "aeb138d7f9e53876"
  },
  {
   "cell_type": "code",
   "execution_count": null,
   "outputs": [],
   "source": [
    "best_acc_knn_clf = max(cv_scores_knn_clf)"
   ],
   "metadata": {
    "collapsed": false
   },
   "id": "38453bc6cb0319fe"
  },
  {
   "cell_type": "code",
   "execution_count": null,
   "outputs": [],
   "source": [
    "from sklearn.neighbors import KNeighborsClassifier, KNeighborsRegressor\n",
    "from sklearn.model_selection import cross_val_score\n",
    "import numpy as np\n",
    "import matplotlib.pyplot as plt\n",
    "\n",
    "k_range = [i for i in range(1, 22) if i%2!=0]\n",
    "cv_scores_knn_reg = []\n",
    "\n",
    "X_knn_reg = X_reg\n",
    "y_knn_reg = y_reg\n",
    "\n",
    "\n",
    "for k in k_range:\n",
    "    kNN_reg = KNeighborsRegressor(n_neighbors=k, metric='minkowski')\n",
    "    scores = cross_val_score(kNN_reg, X_knn_reg, y_knn_reg, cv=5, scoring='neg_mean_absolute_error')\n",
    "    cv_scores_knn_reg.append(scores.mean())\n",
    "\n",
    "best_k_reg = k_range[np.argmax(cv_scores_knn_reg)]\n",
    "best_neg_mae_knn_reg = max(cv_scores_knn_reg)\n",
    "best_mae_knnreg = -best_neg_mae_knn_reg \n",
    "\n",
    "print(f'Best k (based on MAE): {best_k_reg} with MAE: {best_mae_knnreg:.4f}')\n",
    "\n",
    "plt.plot(k_range, [-score for score in cv_scores_knn_reg], marker='o') # Plot the actual MAE values\n",
    "plt.xlabel('k')\n",
    "plt.ylabel('CV MAE')\n",
    "plt.title('kNN_reg Cross-Validation MAE')\n",
    "plt.grid(True)\n",
    "plt.show()\n",
    "\n",
    "cv_scores_knn_reg_cleared = [-score for score in cv_scores_knn_reg]"
   ],
   "metadata": {
    "collapsed": false
   },
   "id": "79047d995be5ac4b"
  },
  {
   "cell_type": "markdown",
   "source": [
    "# SVC"
   ],
   "metadata": {
    "collapsed": false
   },
   "id": "d1c80845ccd48662"
  },
  {
   "cell_type": "code",
   "execution_count": null,
   "outputs": [],
   "source": [
    "from sklearn.svm import SVC\n",
    "from sklearn.model_selection import GridSearchCV\n",
    "from sklearn.metrics import f1_score\n",
    "\n",
    "param_grid = {\n",
    "    'C': [0.01, 0.1, 1, 10, 100],\n",
    "    'kernel': ['rbf'],\n",
    "    'gamma': ['scale', 'auto']\n",
    "}\n",
    "\n",
    "X_svc = X_class\n",
    "y_svc = np.ravel(y_class)\n",
    "\n",
    "X_train_svc, X_test_svc, y_train_svc, y_test_svc = train_test_split(X_svc, y_svc, test_size=0.3, random_state=42)\n",
    "\n",
    "grid = GridSearchCV(SVC(class_weight='balanced'), param_grid, cv=5)\n",
    "grid.fit(X_train_svc, y_train_svc)\n",
    "best_model = grid.best_estimator_\n",
    "\n",
    "best_model.fit(X_train_svc, y_train_svc)\n",
    "y_preds_svc = best_model.predict(X_test_svc)\n",
    "\n",
    "print('Accuracy:', accuracy_score(y_preds_svc, y_test_svc))\n",
    "print('F1 score:', f1_score(y_preds_svc, y_test_svc))\n",
    "\n",
    "acc_svc = accuracy_score(y_preds_svc, y_test_svc)\n",
    "f1_svc = f1_score(y_preds_svc, y_test_svc)"
   ],
   "metadata": {
    "collapsed": false
   },
   "id": "7775932d341db76b"
  },
  {
   "cell_type": "markdown",
   "source": [
    "## Overall we can see that actually making predictions and trying to model the pandemic period it is actually wrong from the view of statistical distribution, because model not trying to predict the pandemic period, it is just choosing certain region where exactly it should be with certain economical, social and political features. Definitely, model not relying on year, country, or others. It is just a modeling of economical features which could marking up the situation of pandemic crisis. Nevertheless, it is better not to model the region of features where you having same class. "
   ],
   "metadata": {
    "collapsed": false
   },
   "id": "16f03d7b5a59862b"
  },
  {
   "cell_type": "code",
   "execution_count": null,
   "outputs": [],
   "source": [
    "import json\n",
    "\n",
    "# ===== Regression ===== #\n",
    "# Linear regression \n",
    "## mae_linreg\n",
    "## mse_linreg\n",
    "## rmse_linreg\n",
    "## r2_linreg\n",
    "\n",
    "# Decision tree regressor\n",
    "## best_maxdepth_tree_reg\n",
    "## best_d2_mae_dtree_reg\n",
    "## cv_scores_decisionTree_reg\n",
    "\n",
    "# Random forest regressor\n",
    "## mae_random_reg\n",
    "\n",
    "# kNN regressor\n",
    "## cv_scores_knn_reg_cleared\n",
    "## best_k_reg\n",
    "## best_mae_knnreg\n",
    "\n",
    "# ===== Classification ===== #\n",
    "# Logistic regression\n",
    "## acc_logit\n",
    "## roc_auc_score_logit\n",
    "## log_loss_logit\n",
    "\n",
    "# Decision tree classifier\n",
    "## best_f1_score_tree_clf\n",
    "## best_maxdepth_tree_clf\n",
    "## cv_scores_decisionTree_clf\n",
    "\n",
    "# Random forest classifier\n",
    "## acc_forest_clf\n",
    "\n",
    "# Naive Bayes classifier\n",
    "## acc_nb\n",
    "\n",
    "# kNN classifier\n",
    "## best_acc_knn_clf\n",
    "## cv_scores_knn_clf\n",
    "## best_k_clf\n",
    "\n",
    "# SVC\n",
    "## acc_svc\n",
    "## f1_svc"
   ],
   "metadata": {
    "collapsed": false
   },
   "id": "8f50c0802a67432b"
  },
  {
   "cell_type": "code",
   "execution_count": null,
   "outputs": [],
   "source": [
    "import json\n",
    "\n",
    "def export_model_results(\n",
    "        # Регрессия — linear\n",
    "        linear_r2, linear_rmse, linear_mae, linear_mse,\n",
    "\n",
    "        # Регрессия — dtree\n",
    "        dtree_d2mae, dtree_cv_d2mae, dtree_best_maxdepth,\n",
    "\n",
    "        # Регрессия — random forest\n",
    "        rf_reg_mae,\n",
    "\n",
    "        # Регрессия — knn\n",
    "        knn_reg_mae, knn_reg_cv_mae, knn_reg_best_k,\n",
    "\n",
    "        # Классификация — logistic\n",
    "        log_accuracy, log_roc_auc, log_loss,\n",
    "\n",
    "        # Классификация — dtree\n",
    "        dtree_clf_f1, dtree_clf_cv_f1, dtree_clf_best_maxdepth,\n",
    "\n",
    "        # Классификация — random forest\n",
    "        rf_clf_accuracy,\n",
    "\n",
    "        # Классификация — naive Bayes\n",
    "        naiveb_accuracy,\n",
    "\n",
    "        # Классификация — knn\n",
    "        knn_clf_accuracy, knn_clf_cv_accuracy, knn_clf_best_k,\n",
    "\n",
    "        # Классификация — SVC\n",
    "        svc_accuracy, svc_f1,\n",
    "\n",
    "        # Имя файла (по умолчанию)\n",
    "        filename=\"supervised.json\"\n",
    "):\n",
    "    results = {\n",
    "        \"regression\": {\n",
    "            \"linear\": {\n",
    "                \"r2\": linear_r2,\n",
    "                \"rmse\": linear_rmse,\n",
    "                \"mae\": linear_mae,\n",
    "                \"mse\": linear_mse\n",
    "            },\n",
    "            \"dtree_reg\": {\n",
    "                \"d2mae\": dtree_d2mae,\n",
    "                \"cv_results\": {\n",
    "                    \"d2mae_results\": dtree_cv_d2mae,\n",
    "                    \"best_maxdepth\": dtree_best_maxdepth\n",
    "                }\n",
    "            },\n",
    "            \"randomforest_reg\": {\n",
    "                \"mae\": rf_reg_mae\n",
    "            },\n",
    "            \"knn\": {\n",
    "                \"mae\": knn_reg_mae,\n",
    "                \"cv_results\": {\n",
    "                    \"mae_results\": knn_reg_cv_mae,\n",
    "                    \"best_k\": knn_reg_best_k\n",
    "                }\n",
    "            }\n",
    "        },\n",
    "        \"classification\": {\n",
    "            \"logistic\": {\n",
    "                \"accuracy\": log_accuracy,\n",
    "                \"roc_auc\": log_roc_auc,\n",
    "                \"log_loss\": log_loss\n",
    "            },\n",
    "            \"dtree_clf\": {\n",
    "                \"accuracy\": dtree_clf_f1,\n",
    "                \"cv_results\": {\n",
    "                    \"accuracy_results\": dtree_clf_cv_f1,\n",
    "                    \"best_maxdepth\": dtree_clf_best_maxdepth\n",
    "                }\n",
    "            },\n",
    "            \"randomforest_clf\": {\n",
    "                \"accuracy\": rf_clf_accuracy\n",
    "            },\n",
    "            \"naiveB\": {\n",
    "                \"accuracy\": naiveb_accuracy\n",
    "            },\n",
    "            \"knn\": {\n",
    "                \"accuracy\": knn_clf_accuracy,\n",
    "                \"cv_results\": {\n",
    "                    \"accuracy_results\": knn_clf_cv_accuracy,\n",
    "                    \"best_k\": knn_clf_best_k\n",
    "                }\n",
    "            },\n",
    "            \"svc\": {\n",
    "                \"accuracy\": svc_accuracy,\n",
    "                \"f1_score\": svc_f1\n",
    "            }\n",
    "        }\n",
    "    }\n",
    "\n",
    "    with open(filename, \"w\") as f:\n",
    "        json.dump(results, f, indent=2)\n",
    "\n",
    "    print(f\"[INFO] Results exported to {filename}\")"
   ],
   "metadata": {
    "collapsed": false
   },
   "id": "4bd7af1d04e25092"
  },
  {
   "cell_type": "code",
   "execution_count": null,
   "outputs": [],
   "source": [
    "export_model_results(\n",
    "    linear_r2=r2_linreg, linear_rmse=rmse_linreg, linear_mae=mae_linreg, linear_mse=mse_linreg,\n",
    "\n",
    "    dtree_d2mae=best_d2_mae_dtree_reg, dtree_cv_d2mae=cv_scores_decisionTree_reg, dtree_best_maxdepth=best_maxdepth_tree_reg,\n",
    "\n",
    "    rf_reg_mae=mae_random_reg,\n",
    "\n",
    "    knn_reg_mae=best_mae_knnreg, knn_reg_cv_mae=cv_scores_knn_reg_cleared, knn_reg_best_k=best_k_reg,\n",
    "\n",
    "    log_accuracy=acc_logit, log_roc_auc=roc_auc_score_logit, log_loss=log_loss_logit,\n",
    "\n",
    "    dtree_clf_f1=best_f1_score_tree_clf, dtree_clf_cv_f1=cv_scores_decisionTree_clf, dtree_clf_best_maxdepth=best_maxdepth_tree_clf,\n",
    "\n",
    "    rf_clf_accuracy=acc_forest_clf,\n",
    "\n",
    "    naiveb_accuracy=acc_nb,\n",
    "\n",
    "    knn_clf_accuracy=best_acc_knn_clf, knn_clf_cv_accuracy=cv_scores_knn_clf, knn_clf_best_k=best_k_clf,\n",
    "\n",
    "    svc_accuracy=acc_svc, svc_f1=f1_svc,\n",
    "\n",
    "    filename=\"results/supervised.json\"\n",
    ")"
   ],
   "metadata": {
    "collapsed": false
   },
   "id": "f432f1ed51a672f3"
  },
  {
   "cell_type": "markdown",
   "source": [
    "# Saving preprocessed data and VIF table"
   ],
   "metadata": {
    "collapsed": false
   },
   "id": "c6a72f3740ea1234"
  },
  {
   "cell_type": "code",
   "execution_count": 35,
   "outputs": [],
   "source": [
    "def save_csv(df_to_save, name):\n",
    "    df_to_save.to_csv(f\"../resources/{name}.csv\", index=False)\n",
    "    print(f\"[INFO] DataFrame сохранён в resources/{name}.csv\")"
   ],
   "metadata": {
    "collapsed": false,
    "ExecuteTime": {
     "end_time": "2025-05-19T10:48:48.171648Z",
     "start_time": "2025-05-19T10:48:48.153825Z"
    }
   },
   "id": "2d3057271de71d7"
  },
  {
   "cell_type": "code",
   "execution_count": 36,
   "outputs": [
    {
     "name": "stdout",
     "output_type": "stream",
     "text": [
      "[INFO] DataFrame сохранён в resources/preprocessed.csv\n",
      "[INFO] DataFrame сохранён в resources/vif.csv\n"
     ]
    }
   ],
   "source": [
    "save_csv(df_cleared_class, \"preprocessed\")\n",
    "save_csv(vif_df, 'vif')"
   ],
   "metadata": {
    "collapsed": false,
    "ExecuteTime": {
     "end_time": "2025-05-19T10:48:48.784722Z",
     "start_time": "2025-05-19T10:48:48.666104Z"
    }
   },
   "id": "7a0ebafded7fa50c"
  }
 ],
 "metadata": {
  "kernelspec": {
   "display_name": "Python 3",
   "language": "python",
   "name": "python3"
  },
  "language_info": {
   "codemirror_mode": {
    "name": "ipython",
    "version": 2
   },
   "file_extension": ".py",
   "mimetype": "text/x-python",
   "name": "python",
   "nbconvert_exporter": "python",
   "pygments_lexer": "ipython2",
   "version": "2.7.6"
  }
 },
 "nbformat": 4,
 "nbformat_minor": 5
}
