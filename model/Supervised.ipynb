{
 "cells": [
  {
   "cell_type": "code",
   "execution_count": 2,
   "id": "initial_id",
   "metadata": {
    "collapsed": true,
    "ExecuteTime": {
     "end_time": "2025-05-18T17:16:50.088824Z",
     "start_time": "2025-05-18T17:16:48.211194Z"
    }
   },
   "outputs": [],
   "source": [
    "import pandas as pd\n",
    "import numpy as np\n",
    "\n",
    "from sklearn.preprocessing import (\n",
    "    StandardScaler, MinMaxScaler, RobustScaler,\n",
    "    OneHotEncoder, LabelEncoder, OrdinalEncoder,\n",
    "    PolynomialFeatures\n",
    ")\n",
    "from sklearn.impute import SimpleImputer, KNNImputer\n",
    "\n",
    "import scipy.stats as stats\n",
    "from statsmodels.stats.outliers_influence import variance_inflation_factor\n",
    "import statsmodels.api as sm\n",
    "import statsmodels.formula.api as smf\n",
    "\n",
    "import matplotlib.pyplot as plt\n",
    "import seaborn as sns\n",
    "import plotly.express as px\n",
    "import plotly.graph_objects as go"
   ]
  },
  {
   "cell_type": "markdown",
   "source": [
    "# Data preparing and preprocessing"
   ],
   "metadata": {
    "collapsed": false
   },
   "id": "d10317108d9a92c1"
  },
  {
   "cell_type": "code",
   "execution_count": 3,
   "outputs": [],
   "source": [
    "df = pd.read_csv('./data/Global_Development_Indicators_2000_2020.csv')"
   ],
   "metadata": {
    "collapsed": false,
    "ExecuteTime": {
     "end_time": "2025-05-18T17:16:50.126645Z",
     "start_time": "2025-05-18T17:16:50.089447Z"
    }
   },
   "id": "5ef0a750652e44ca"
  },
  {
   "cell_type": "code",
   "execution_count": 4,
   "outputs": [],
   "source": [
    "df.fillna(df.mean(numeric_only=True), inplace=True)"
   ],
   "metadata": {
    "collapsed": false,
    "ExecuteTime": {
     "end_time": "2025-05-18T17:16:50.135394Z",
     "start_time": "2025-05-18T17:16:50.122433Z"
    }
   },
   "id": "78ef3839a0e3d3f0"
  },
  {
   "cell_type": "code",
   "execution_count": 5,
   "outputs": [
    {
     "name": "stdout",
     "output_type": "stream",
     "text": [
      "year                                      0\n",
      "country_code                              0\n",
      "country_name                              0\n",
      "region                                 1008\n",
      "income_group                           1029\n",
      "currency_unit                          1008\n",
      "gdp_usd                                   0\n",
      "population                                0\n",
      "gdp_per_capita                            0\n",
      "inflation_rate                            0\n",
      "unemployment_rate                         0\n",
      "fdi_pct_gdp                               0\n",
      "co2_emissions_kt                          0\n",
      "energy_use_per_capita                     0\n",
      "renewable_energy_pct                      0\n",
      "forest_area_pct                           0\n",
      "electricity_access_pct                    0\n",
      "life_expectancy                           0\n",
      "child_mortality                           0\n",
      "school_enrollment_secondary               0\n",
      "health_expenditure_pct_gdp                0\n",
      "hospital_beds_per_1000                    0\n",
      "physicians_per_1000                       0\n",
      "internet_usage_pct                        0\n",
      "mobile_subscriptions_per_100              0\n",
      "calculated_gdp_per_capita                 0\n",
      "real_economic_growth_indicator            0\n",
      "econ_opportunity_index                    0\n",
      "co2_emissions_per_capita_tons             0\n",
      "co2_intensity_per_million_gdp             0\n",
      "green_transition_score                    0\n",
      "ecological_preservation_index             0\n",
      "renewable_energy_efficiency               0\n",
      "human_development_composite               0\n",
      "healthcare_capacity_index                 0\n",
      "digital_connectivity_index                0\n",
      "health_development_ratio                  0\n",
      "education_health_ratio                    0\n",
      "years_since_2000                          0\n",
      "years_since_century                       0\n",
      "is_pandemic_period                        0\n",
      "human_development_index                   0\n",
      "climate_vulnerability_index               0\n",
      "digital_readiness_score                   0\n",
      "governance_quality_index                  0\n",
      "global_resilience_score                   0\n",
      "global_development_resilience_index       0\n",
      "dtype: int64\n"
     ]
    }
   ],
   "source": [
    "print(df.isna().sum())"
   ],
   "metadata": {
    "collapsed": false,
    "ExecuteTime": {
     "end_time": "2025-05-18T17:16:50.145271Z",
     "start_time": "2025-05-18T17:16:50.136761Z"
    }
   },
   "id": "42658e7979e6d444"
  },
  {
   "cell_type": "code",
   "execution_count": 6,
   "outputs": [],
   "source": [
    "df = df.drop(columns=['region', 'income_group', 'currency_unit'])"
   ],
   "metadata": {
    "collapsed": false,
    "ExecuteTime": {
     "end_time": "2025-05-18T17:16:50.147261Z",
     "start_time": "2025-05-18T17:16:50.143819Z"
    }
   },
   "id": "3006d0561201aef3"
  },
  {
   "cell_type": "code",
   "execution_count": 7,
   "outputs": [
    {
     "name": "stdout",
     "output_type": "stream",
     "text": [
      "year                                   0\n",
      "country_code                           0\n",
      "country_name                           0\n",
      "gdp_usd                                0\n",
      "population                             0\n",
      "gdp_per_capita                         0\n",
      "inflation_rate                         0\n",
      "unemployment_rate                      0\n",
      "fdi_pct_gdp                            0\n",
      "co2_emissions_kt                       0\n",
      "energy_use_per_capita                  0\n",
      "renewable_energy_pct                   0\n",
      "forest_area_pct                        0\n",
      "electricity_access_pct                 0\n",
      "life_expectancy                        0\n",
      "child_mortality                        0\n",
      "school_enrollment_secondary            0\n",
      "health_expenditure_pct_gdp             0\n",
      "hospital_beds_per_1000                 0\n",
      "physicians_per_1000                    0\n",
      "internet_usage_pct                     0\n",
      "mobile_subscriptions_per_100           0\n",
      "calculated_gdp_per_capita              0\n",
      "real_economic_growth_indicator         0\n",
      "econ_opportunity_index                 0\n",
      "co2_emissions_per_capita_tons          0\n",
      "co2_intensity_per_million_gdp          0\n",
      "green_transition_score                 0\n",
      "ecological_preservation_index          0\n",
      "renewable_energy_efficiency            0\n",
      "human_development_composite            0\n",
      "healthcare_capacity_index              0\n",
      "digital_connectivity_index             0\n",
      "health_development_ratio               0\n",
      "education_health_ratio                 0\n",
      "years_since_2000                       0\n",
      "years_since_century                    0\n",
      "is_pandemic_period                     0\n",
      "human_development_index                0\n",
      "climate_vulnerability_index            0\n",
      "digital_readiness_score                0\n",
      "governance_quality_index               0\n",
      "global_resilience_score                0\n",
      "global_development_resilience_index    0\n",
      "dtype: int64\n"
     ]
    }
   ],
   "source": [
    "print(df.isna().sum())"
   ],
   "metadata": {
    "collapsed": false,
    "ExecuteTime": {
     "end_time": "2025-05-18T17:16:50.155973Z",
     "start_time": "2025-05-18T17:16:50.146530Z"
    }
   },
   "id": "3c965a470bf81f3d"
  },
  {
   "cell_type": "code",
   "execution_count": 8,
   "outputs": [],
   "source": [
    "df_cleared = df.drop(columns=['years_since_2000', 'years_since_century', 'is_pandemic_period', 'human_development_composite', 'year', 'country_code', 'country_name', 'governance_quality_index', 'internet_usage_pct', 'mobile_subscriptions_per_100', 'education_health_ratio', 'global_development_resilience_index', 'co2_intensity_per_million_gdp'])"
   ],
   "metadata": {
    "collapsed": false,
    "ExecuteTime": {
     "end_time": "2025-05-18T17:16:50.196399Z",
     "start_time": "2025-05-18T17:16:50.152502Z"
    }
   },
   "id": "1fbb4549453b07f5"
  },
  {
   "cell_type": "code",
   "execution_count": 9,
   "outputs": [
    {
     "data": {
      "text/plain": "            gdp_usd    population  gdp_per_capita  inflation_rate  \\\ncount  5.556000e+03  5.556000e+03     5556.000000     5556.000000   \nmean   2.008355e+12  2.803412e+08    13795.817996        5.672921   \nstd    7.145199e+12  8.833686e+08    21356.152812       15.885464   \nmin    1.319654e+07  9.392000e+03      111.927225      -18.108630   \n25%    6.427532e+09  1.362497e+06     1523.496083        2.028945   \n50%    4.687279e+10  9.460952e+06     5071.950964        4.108692   \n75%    6.280724e+11  5.915911e+07    15383.866888        5.672921   \nmax    8.756805e+13  7.761620e+09   189487.147128      557.201817   \n\n       unemployment_rate  fdi_pct_gdp  co2_emissions_kt  \\\ncount        5556.000000  5556.000000      5.556000e+03   \nmean            7.931009     8.257269      1.121548e+06   \nstd             5.366190    54.873561      3.235446e+06   \nmin             0.100000 -1275.189986      0.000000e+00   \n25%             4.479250     1.575230      4.875000e+03   \n50%             7.016000     3.164215      6.348500e+04   \n75%             9.509250     7.301829      1.121548e+06   \nmax            37.250000  1709.765678      3.404105e+07   \n\n       energy_use_per_capita  renewable_energy_pct  forest_area_pct  ...  \\\ncount            5556.000000           5556.000000      5556.000000  ...   \nmean             2348.102738             30.136454        32.321885  ...   \nstd              2029.383933             27.030396        22.835904  ...   \nmin                 9.548060              0.000000         0.000000  ...   \n25%              1219.826064              7.038275        12.731705  ...   \n50%              2348.102738             27.649244        31.242095  ...   \n75%              2348.102738             43.762501        46.377833  ...   \nmax             22120.430302             98.342903        98.338910  ...   \n\n       green_transition_score  ecological_preservation_index  \\\ncount             5556.000000                    5556.000000   \nmean                30.136454                       1.423242   \nstd                 27.030396                       1.592646   \nmin                  0.000000                       0.000000   \n25%                  7.038275                       0.042510   \n50%                 27.649244                       1.049848   \n75%                 43.762501                       2.136633   \nmax                 98.342903                       8.682123   \n\n       renewable_energy_efficiency  healthcare_capacity_index  \\\ncount                  5556.000000                5556.000000   \nmean                      6.451143                  32.689495   \nstd                      15.145880                  67.500723   \nmin                       0.000000                   0.000000   \n25%                       0.934828                   0.000000   \n50%                       6.451143                   0.000000   \n75%                       6.451143                  32.689495   \nmax                     580.855155                 521.652851   \n\n       digital_connectivity_index  health_development_ratio  \\\ncount                 5556.000000               5556.000000   \nmean                     4.028989                  5.692028   \nstd                      3.721305                  6.334250   \nmin                      0.000000                  0.175371   \n25%                      0.385371                  1.172355   \n50%                      3.151044                  3.954014   \n75%                      7.317161                  5.692028   \nmax                     17.010630                 41.280488   \n\n       human_development_index  climate_vulnerability_index  \\\ncount              5556.000000                  5556.000000   \nmean                  0.655851                     0.355641   \nstd                   0.253182                     0.098701   \nmin                  -0.259046                     0.046064   \n25%                   0.507309                     0.279549   \n50%                   0.655851                     0.367475   \n75%                   0.870724                     0.436504   \nmax                   1.171897                     0.500000   \n\n       digital_readiness_score  global_resilience_score  \ncount              5556.000000              5556.000000  \nmean                  0.370564                 0.444183  \nstd                   0.293003                 0.260637  \nmin                   0.000000                -2.748146  \n25%                   0.094469                 0.365905  \n50%                   0.332576                 0.444183  \n75%                   0.617325                 0.532583  \nmax                   1.570052                 1.549244  \n\n[8 rows x 31 columns]",
      "text/html": "<div>\n<style scoped>\n    .dataframe tbody tr th:only-of-type {\n        vertical-align: middle;\n    }\n\n    .dataframe tbody tr th {\n        vertical-align: top;\n    }\n\n    .dataframe thead th {\n        text-align: right;\n    }\n</style>\n<table border=\"1\" class=\"dataframe\">\n  <thead>\n    <tr style=\"text-align: right;\">\n      <th></th>\n      <th>gdp_usd</th>\n      <th>population</th>\n      <th>gdp_per_capita</th>\n      <th>inflation_rate</th>\n      <th>unemployment_rate</th>\n      <th>fdi_pct_gdp</th>\n      <th>co2_emissions_kt</th>\n      <th>energy_use_per_capita</th>\n      <th>renewable_energy_pct</th>\n      <th>forest_area_pct</th>\n      <th>...</th>\n      <th>green_transition_score</th>\n      <th>ecological_preservation_index</th>\n      <th>renewable_energy_efficiency</th>\n      <th>healthcare_capacity_index</th>\n      <th>digital_connectivity_index</th>\n      <th>health_development_ratio</th>\n      <th>human_development_index</th>\n      <th>climate_vulnerability_index</th>\n      <th>digital_readiness_score</th>\n      <th>global_resilience_score</th>\n    </tr>\n  </thead>\n  <tbody>\n    <tr>\n      <th>count</th>\n      <td>5.556000e+03</td>\n      <td>5.556000e+03</td>\n      <td>5556.000000</td>\n      <td>5556.000000</td>\n      <td>5556.000000</td>\n      <td>5556.000000</td>\n      <td>5.556000e+03</td>\n      <td>5556.000000</td>\n      <td>5556.000000</td>\n      <td>5556.000000</td>\n      <td>...</td>\n      <td>5556.000000</td>\n      <td>5556.000000</td>\n      <td>5556.000000</td>\n      <td>5556.000000</td>\n      <td>5556.000000</td>\n      <td>5556.000000</td>\n      <td>5556.000000</td>\n      <td>5556.000000</td>\n      <td>5556.000000</td>\n      <td>5556.000000</td>\n    </tr>\n    <tr>\n      <th>mean</th>\n      <td>2.008355e+12</td>\n      <td>2.803412e+08</td>\n      <td>13795.817996</td>\n      <td>5.672921</td>\n      <td>7.931009</td>\n      <td>8.257269</td>\n      <td>1.121548e+06</td>\n      <td>2348.102738</td>\n      <td>30.136454</td>\n      <td>32.321885</td>\n      <td>...</td>\n      <td>30.136454</td>\n      <td>1.423242</td>\n      <td>6.451143</td>\n      <td>32.689495</td>\n      <td>4.028989</td>\n      <td>5.692028</td>\n      <td>0.655851</td>\n      <td>0.355641</td>\n      <td>0.370564</td>\n      <td>0.444183</td>\n    </tr>\n    <tr>\n      <th>std</th>\n      <td>7.145199e+12</td>\n      <td>8.833686e+08</td>\n      <td>21356.152812</td>\n      <td>15.885464</td>\n      <td>5.366190</td>\n      <td>54.873561</td>\n      <td>3.235446e+06</td>\n      <td>2029.383933</td>\n      <td>27.030396</td>\n      <td>22.835904</td>\n      <td>...</td>\n      <td>27.030396</td>\n      <td>1.592646</td>\n      <td>15.145880</td>\n      <td>67.500723</td>\n      <td>3.721305</td>\n      <td>6.334250</td>\n      <td>0.253182</td>\n      <td>0.098701</td>\n      <td>0.293003</td>\n      <td>0.260637</td>\n    </tr>\n    <tr>\n      <th>min</th>\n      <td>1.319654e+07</td>\n      <td>9.392000e+03</td>\n      <td>111.927225</td>\n      <td>-18.108630</td>\n      <td>0.100000</td>\n      <td>-1275.189986</td>\n      <td>0.000000e+00</td>\n      <td>9.548060</td>\n      <td>0.000000</td>\n      <td>0.000000</td>\n      <td>...</td>\n      <td>0.000000</td>\n      <td>0.000000</td>\n      <td>0.000000</td>\n      <td>0.000000</td>\n      <td>0.000000</td>\n      <td>0.175371</td>\n      <td>-0.259046</td>\n      <td>0.046064</td>\n      <td>0.000000</td>\n      <td>-2.748146</td>\n    </tr>\n    <tr>\n      <th>25%</th>\n      <td>6.427532e+09</td>\n      <td>1.362497e+06</td>\n      <td>1523.496083</td>\n      <td>2.028945</td>\n      <td>4.479250</td>\n      <td>1.575230</td>\n      <td>4.875000e+03</td>\n      <td>1219.826064</td>\n      <td>7.038275</td>\n      <td>12.731705</td>\n      <td>...</td>\n      <td>7.038275</td>\n      <td>0.042510</td>\n      <td>0.934828</td>\n      <td>0.000000</td>\n      <td>0.385371</td>\n      <td>1.172355</td>\n      <td>0.507309</td>\n      <td>0.279549</td>\n      <td>0.094469</td>\n      <td>0.365905</td>\n    </tr>\n    <tr>\n      <th>50%</th>\n      <td>4.687279e+10</td>\n      <td>9.460952e+06</td>\n      <td>5071.950964</td>\n      <td>4.108692</td>\n      <td>7.016000</td>\n      <td>3.164215</td>\n      <td>6.348500e+04</td>\n      <td>2348.102738</td>\n      <td>27.649244</td>\n      <td>31.242095</td>\n      <td>...</td>\n      <td>27.649244</td>\n      <td>1.049848</td>\n      <td>6.451143</td>\n      <td>0.000000</td>\n      <td>3.151044</td>\n      <td>3.954014</td>\n      <td>0.655851</td>\n      <td>0.367475</td>\n      <td>0.332576</td>\n      <td>0.444183</td>\n    </tr>\n    <tr>\n      <th>75%</th>\n      <td>6.280724e+11</td>\n      <td>5.915911e+07</td>\n      <td>15383.866888</td>\n      <td>5.672921</td>\n      <td>9.509250</td>\n      <td>7.301829</td>\n      <td>1.121548e+06</td>\n      <td>2348.102738</td>\n      <td>43.762501</td>\n      <td>46.377833</td>\n      <td>...</td>\n      <td>43.762501</td>\n      <td>2.136633</td>\n      <td>6.451143</td>\n      <td>32.689495</td>\n      <td>7.317161</td>\n      <td>5.692028</td>\n      <td>0.870724</td>\n      <td>0.436504</td>\n      <td>0.617325</td>\n      <td>0.532583</td>\n    </tr>\n    <tr>\n      <th>max</th>\n      <td>8.756805e+13</td>\n      <td>7.761620e+09</td>\n      <td>189487.147128</td>\n      <td>557.201817</td>\n      <td>37.250000</td>\n      <td>1709.765678</td>\n      <td>3.404105e+07</td>\n      <td>22120.430302</td>\n      <td>98.342903</td>\n      <td>98.338910</td>\n      <td>...</td>\n      <td>98.342903</td>\n      <td>8.682123</td>\n      <td>580.855155</td>\n      <td>521.652851</td>\n      <td>17.010630</td>\n      <td>41.280488</td>\n      <td>1.171897</td>\n      <td>0.500000</td>\n      <td>1.570052</td>\n      <td>1.549244</td>\n    </tr>\n  </tbody>\n</table>\n<p>8 rows × 31 columns</p>\n</div>"
     },
     "execution_count": 9,
     "metadata": {},
     "output_type": "execute_result"
    }
   ],
   "source": [
    "df_cleared.describe()"
   ],
   "metadata": {
    "collapsed": false,
    "ExecuteTime": {
     "end_time": "2025-05-18T17:16:50.227618Z",
     "start_time": "2025-05-18T17:16:50.157245Z"
    }
   },
   "id": "9c6be3429911fc3f"
  },
  {
   "cell_type": "code",
   "execution_count": 10,
   "outputs": [],
   "source": [
    "X_reg = df_cleared.loc[:, df_cleared.columns != 'inflation_rate']\n",
    "y_reg = df_cleared.loc[:, ['inflation_rate']]"
   ],
   "metadata": {
    "collapsed": false,
    "ExecuteTime": {
     "end_time": "2025-05-18T17:16:50.228429Z",
     "start_time": "2025-05-18T17:16:50.189071Z"
    }
   },
   "id": "d491bc936f59ba1c"
  },
  {
   "cell_type": "code",
   "execution_count": 11,
   "outputs": [],
   "source": [
    "from sklearn.model_selection import train_test_split\n",
    "X_train_linreg, X_test_linreg, y_train_linreg, y_test_linreg = train_test_split(X_reg, y_reg, test_size=0.3, random_state=42)"
   ],
   "metadata": {
    "collapsed": false,
    "ExecuteTime": {
     "end_time": "2025-05-18T17:16:50.229463Z",
     "start_time": "2025-05-18T17:16:50.197045Z"
    }
   },
   "id": "590e8b4d6d03ac54"
  },
  {
   "cell_type": "markdown",
   "source": [
    "# Multicolinearity check"
   ],
   "metadata": {
    "collapsed": false
   },
   "id": "c3692492aff8fc4"
  },
  {
   "cell_type": "code",
   "execution_count": 12,
   "outputs": [
    {
     "name": "stdout",
     "output_type": "stream",
     "text": [
      "Constant features: []\n"
     ]
    }
   ],
   "source": [
    "constant_features = [col for col in X_reg.columns if X_reg[col].nunique() == 1]\n",
    "print(\"Constant features:\", constant_features)"
   ],
   "metadata": {
    "collapsed": false,
    "ExecuteTime": {
     "end_time": "2025-05-18T17:16:50.229810Z",
     "start_time": "2025-05-18T17:16:50.203407Z"
    }
   },
   "id": "5bd8684d17ab6429"
  },
  {
   "cell_type": "code",
   "execution_count": 13,
   "outputs": [],
   "source": [
    "from statsmodels.tools.tools import add_constant\n",
    "\n",
    "X_reg_check = X_reg\n",
    "\n",
    "vif_df = pd.DataFrame()\n",
    "vif_df[\"feature\"] = X_reg_check.columns\n",
    "vif_df[\"VIF\"] = [variance_inflation_factor(X_reg_check.values, i) for i in range(X_reg_check.shape[1])]"
   ],
   "metadata": {
    "collapsed": false,
    "ExecuteTime": {
     "end_time": "2025-05-18T17:16:50.796696Z",
     "start_time": "2025-05-18T17:16:50.218480Z"
    }
   },
   "id": "a2d784a9d968b9d0"
  },
  {
   "cell_type": "code",
   "execution_count": 14,
   "outputs": [
    {
     "data": {
      "text/plain": "                           feature           VIF\n0                          gdp_usd  3.531146e+00\n1                       population  3.981302e+00\n2                   gdp_per_capita  2.591562e+03\n3                unemployment_rate  1.187858e+00\n4                      fdi_pct_gdp  1.131844e+00\n5                 co2_emissions_kt  5.352847e+00\n6            energy_use_per_capita  2.274810e+00\n7             renewable_energy_pct  1.671994e+11\n8                  forest_area_pct  4.111555e+00\n9           electricity_access_pct  5.121818e+00\n10                 life_expectancy  5.076097e+00\n11                 child_mortality  4.977124e+00\n12     school_enrollment_secondary  2.759693e+00\n13      health_expenditure_pct_gdp  1.464966e+00\n14          hospital_beds_per_1000  1.657670e+00\n15             physicians_per_1000  2.084311e+00\n16       calculated_gdp_per_capita  2.578792e+03\n17  real_economic_growth_indicator  1.003693e+00\n18          econ_opportunity_index  2.288243e+00\n19   co2_emissions_per_capita_tons  3.532139e+00\n20          green_transition_score  1.671994e+11\n21   ecological_preservation_index  3.992820e+00\n22     renewable_energy_efficiency  1.148315e+00\n23       healthcare_capacity_index  2.756124e+00\n24      digital_connectivity_index  1.443704e+01\n25        health_development_ratio  3.692375e+00\n26         human_development_index  6.320165e+00\n27     climate_vulnerability_index  1.142143e+01\n28         digital_readiness_score  1.520314e+01\n29         global_resilience_score  2.382886e+00",
      "text/html": "<div>\n<style scoped>\n    .dataframe tbody tr th:only-of-type {\n        vertical-align: middle;\n    }\n\n    .dataframe tbody tr th {\n        vertical-align: top;\n    }\n\n    .dataframe thead th {\n        text-align: right;\n    }\n</style>\n<table border=\"1\" class=\"dataframe\">\n  <thead>\n    <tr style=\"text-align: right;\">\n      <th></th>\n      <th>feature</th>\n      <th>VIF</th>\n    </tr>\n  </thead>\n  <tbody>\n    <tr>\n      <th>0</th>\n      <td>gdp_usd</td>\n      <td>3.531146e+00</td>\n    </tr>\n    <tr>\n      <th>1</th>\n      <td>population</td>\n      <td>3.981302e+00</td>\n    </tr>\n    <tr>\n      <th>2</th>\n      <td>gdp_per_capita</td>\n      <td>2.591562e+03</td>\n    </tr>\n    <tr>\n      <th>3</th>\n      <td>unemployment_rate</td>\n      <td>1.187858e+00</td>\n    </tr>\n    <tr>\n      <th>4</th>\n      <td>fdi_pct_gdp</td>\n      <td>1.131844e+00</td>\n    </tr>\n    <tr>\n      <th>5</th>\n      <td>co2_emissions_kt</td>\n      <td>5.352847e+00</td>\n    </tr>\n    <tr>\n      <th>6</th>\n      <td>energy_use_per_capita</td>\n      <td>2.274810e+00</td>\n    </tr>\n    <tr>\n      <th>7</th>\n      <td>renewable_energy_pct</td>\n      <td>1.671994e+11</td>\n    </tr>\n    <tr>\n      <th>8</th>\n      <td>forest_area_pct</td>\n      <td>4.111555e+00</td>\n    </tr>\n    <tr>\n      <th>9</th>\n      <td>electricity_access_pct</td>\n      <td>5.121818e+00</td>\n    </tr>\n    <tr>\n      <th>10</th>\n      <td>life_expectancy</td>\n      <td>5.076097e+00</td>\n    </tr>\n    <tr>\n      <th>11</th>\n      <td>child_mortality</td>\n      <td>4.977124e+00</td>\n    </tr>\n    <tr>\n      <th>12</th>\n      <td>school_enrollment_secondary</td>\n      <td>2.759693e+00</td>\n    </tr>\n    <tr>\n      <th>13</th>\n      <td>health_expenditure_pct_gdp</td>\n      <td>1.464966e+00</td>\n    </tr>\n    <tr>\n      <th>14</th>\n      <td>hospital_beds_per_1000</td>\n      <td>1.657670e+00</td>\n    </tr>\n    <tr>\n      <th>15</th>\n      <td>physicians_per_1000</td>\n      <td>2.084311e+00</td>\n    </tr>\n    <tr>\n      <th>16</th>\n      <td>calculated_gdp_per_capita</td>\n      <td>2.578792e+03</td>\n    </tr>\n    <tr>\n      <th>17</th>\n      <td>real_economic_growth_indicator</td>\n      <td>1.003693e+00</td>\n    </tr>\n    <tr>\n      <th>18</th>\n      <td>econ_opportunity_index</td>\n      <td>2.288243e+00</td>\n    </tr>\n    <tr>\n      <th>19</th>\n      <td>co2_emissions_per_capita_tons</td>\n      <td>3.532139e+00</td>\n    </tr>\n    <tr>\n      <th>20</th>\n      <td>green_transition_score</td>\n      <td>1.671994e+11</td>\n    </tr>\n    <tr>\n      <th>21</th>\n      <td>ecological_preservation_index</td>\n      <td>3.992820e+00</td>\n    </tr>\n    <tr>\n      <th>22</th>\n      <td>renewable_energy_efficiency</td>\n      <td>1.148315e+00</td>\n    </tr>\n    <tr>\n      <th>23</th>\n      <td>healthcare_capacity_index</td>\n      <td>2.756124e+00</td>\n    </tr>\n    <tr>\n      <th>24</th>\n      <td>digital_connectivity_index</td>\n      <td>1.443704e+01</td>\n    </tr>\n    <tr>\n      <th>25</th>\n      <td>health_development_ratio</td>\n      <td>3.692375e+00</td>\n    </tr>\n    <tr>\n      <th>26</th>\n      <td>human_development_index</td>\n      <td>6.320165e+00</td>\n    </tr>\n    <tr>\n      <th>27</th>\n      <td>climate_vulnerability_index</td>\n      <td>1.142143e+01</td>\n    </tr>\n    <tr>\n      <th>28</th>\n      <td>digital_readiness_score</td>\n      <td>1.520314e+01</td>\n    </tr>\n    <tr>\n      <th>29</th>\n      <td>global_resilience_score</td>\n      <td>2.382886e+00</td>\n    </tr>\n  </tbody>\n</table>\n</div>"
     },
     "execution_count": 14,
     "metadata": {},
     "output_type": "execute_result"
    }
   ],
   "source": [
    "vif_df"
   ],
   "metadata": {
    "collapsed": false,
    "ExecuteTime": {
     "end_time": "2025-05-18T17:16:50.812077Z",
     "start_time": "2025-05-18T17:16:50.797575Z"
    }
   },
   "id": "c37048e592c933e1"
  },
  {
   "cell_type": "code",
   "execution_count": 15,
   "outputs": [],
   "source": [
    "multicolineared_columns = ['internet_usage_pct', 'mobile_subscriptions_per_100', 'education_health_ratio', 'global_development_resilience_index', 'co2_intensity_per_million_gdp']"
   ],
   "metadata": {
    "collapsed": false,
    "ExecuteTime": {
     "end_time": "2025-05-18T17:16:50.828164Z",
     "start_time": "2025-05-18T17:16:50.810291Z"
    }
   },
   "id": "4cd803257dd15984"
  },
  {
   "cell_type": "markdown",
   "source": [
    "# Linear Regresion"
   ],
   "metadata": {
    "collapsed": false
   },
   "id": "e2b3456fb774e818"
  },
  {
   "cell_type": "code",
   "execution_count": 16,
   "outputs": [
    {
     "name": "stdout",
     "output_type": "stream",
     "text": [
      "                            OLS Regression Results                            \n",
      "==============================================================================\n",
      "Dep. Variable:         inflation_rate   R-squared:                       0.028\n",
      "Model:                            OLS   Adj. R-squared:                  0.022\n",
      "Method:                 Least Squares   F-statistic:                     4.186\n",
      "Date:                Sun, 18 May 2025   Prob (F-statistic):           2.80e-12\n",
      "Time:                        22:16:50   Log-Likelihood:                -16150.\n",
      "No. Observations:                3889   AIC:                         3.236e+04\n",
      "Df Residuals:                    3861   BIC:                         3.253e+04\n",
      "Df Model:                          27                                         \n",
      "Covariance Type:            nonrobust                                         \n",
      "==================================================================================================\n",
      "                                     coef    std err          t      P>|t|      [0.025      0.975]\n",
      "--------------------------------------------------------------------------------------------------\n",
      "gdp_usd                         3.467e-14   6.53e-14      0.531      0.595   -9.33e-14    1.63e-13\n",
      "population                     -1.032e-09   5.55e-10     -1.860      0.063   -2.12e-09    5.59e-11\n",
      "gdp_per_capita                 -3.596e-05      0.001     -0.066      0.947      -0.001       0.001\n",
      "unemployment_rate                 -0.0055      0.049     -0.112      0.911      -0.102       0.091\n",
      "fdi_pct_gdp                       -0.0002      0.004     -0.050      0.960      -0.009       0.009\n",
      "co2_emissions_kt                7.956e-08   1.72e-07      0.464      0.643   -2.57e-07    4.16e-07\n",
      "energy_use_per_capita             -0.0001      0.000     -0.538      0.591      -0.000       0.000\n",
      "renewable_energy_pct              -0.0078      0.011     -0.694      0.488      -0.030       0.014\n",
      "forest_area_pct                    0.0079      0.022      0.355      0.722      -0.036       0.052\n",
      "electricity_access_pct            -0.0441      0.020     -2.191      0.028      -0.084      -0.005\n",
      "life_expectancy                    0.0837      0.067      1.254      0.210      -0.047       0.214\n",
      "child_mortality                    0.0420      0.014      2.966      0.003       0.014       0.070\n",
      "school_enrollment_secondary        0.0279      0.018      1.558      0.119      -0.007       0.063\n",
      "health_expenditure_pct_gdp        -0.1216      0.120     -1.016      0.310      -0.356       0.113\n",
      "hospital_beds_per_1000             0.0605      0.188      0.322      0.747      -0.308       0.429\n",
      "physicians_per_1000                0.3056      0.318      0.960      0.337      -0.319       0.930\n",
      "calculated_gdp_per_capita       4.761e-05      0.001      0.088      0.930      -0.001       0.001\n",
      "real_economic_growth_indicator  3.062e-11      3e-10      0.102      0.919   -5.59e-10     6.2e-10\n",
      "econ_opportunity_index          7.482e-06   3.53e-05      0.212      0.832   -6.16e-05    7.66e-05\n",
      "co2_emissions_per_capita_tons      0.0068      0.100      0.068      0.946      -0.189       0.203\n",
      "green_transition_score            -0.0078      0.011     -0.694      0.488      -0.030       0.014\n",
      "ecological_preservation_index      0.4668      0.311      1.500      0.134      -0.143       1.077\n",
      "renewable_energy_efficiency       -0.0065      0.016     -0.406      0.685      -0.038       0.025\n",
      "healthcare_capacity_index          0.0021      0.006      0.344      0.731      -0.010       0.014\n",
      "digital_connectivity_index        -0.5987      0.252     -2.373      0.018      -1.093      -0.104\n",
      "health_development_ratio          -0.0702      0.076     -0.924      0.356      -0.219       0.079\n",
      "human_development_index           -0.0054      2.477     -0.002      0.998      -4.861       4.850\n",
      "climate_vulnerability_index        5.6172      8.575      0.655      0.512     -11.194      22.428\n",
      "digital_readiness_score            4.9823      3.269      1.524      0.128      -1.427      11.392\n",
      "global_resilience_score           -4.6931      1.382     -3.396      0.001      -7.403      -1.984\n",
      "==============================================================================\n",
      "Omnibus:                     9002.935   Durbin-Watson:                   2.015\n",
      "Prob(Omnibus):                  0.000   Jarque-Bera (JB):         65797955.290\n",
      "Skew:                          22.415   Prob(JB):                         0.00\n",
      "Kurtosis:                     638.646   Cond. No.                     1.00e+16\n",
      "==============================================================================\n",
      "\n",
      "Notes:\n",
      "[1] Standard Errors assume that the covariance matrix of the errors is correctly specified.\n",
      "[2] The condition number is large,  1e+16. This might indicate that there are\n",
      "strong multicollinearity or other numerical problems.\n"
     ]
    }
   ],
   "source": [
    "model_linreg = sm.OLS(y_train_linreg, X_train_linreg).fit()\n",
    "print(model_linreg.summary())"
   ],
   "metadata": {
    "collapsed": false,
    "ExecuteTime": {
     "end_time": "2025-05-18T17:16:51.105641Z",
     "start_time": "2025-05-18T17:16:50.826141Z"
    }
   },
   "id": "1725b040553f0bf9"
  },
  {
   "cell_type": "code",
   "execution_count": 17,
   "outputs": [
    {
     "name": "stdout",
     "output_type": "stream",
     "text": [
      "4456     7.300157\n",
      "4626     9.740071\n",
      "2802     4.021171\n",
      "230      6.912679\n",
      "3872     5.747388\n",
      "          ...    \n",
      "3166     3.330062\n",
      "5512     2.257291\n",
      "1427     2.380475\n",
      "3869     4.267966\n",
      "5290    12.518856\n",
      "Length: 1667, dtype: float64\n"
     ]
    }
   ],
   "source": [
    "preds_new = model_linreg.predict(X_test_linreg)\n",
    "print(preds_new)"
   ],
   "metadata": {
    "collapsed": false,
    "ExecuteTime": {
     "end_time": "2025-05-18T17:16:51.203987Z",
     "start_time": "2025-05-18T17:16:50.876972Z"
    }
   },
   "id": "58aaa54f2c926c59"
  },
  {
   "cell_type": "code",
   "execution_count": 18,
   "outputs": [
    {
     "name": "stdout",
     "output_type": "stream",
     "text": [
      "R^2: 0.028438804428820075\n"
     ]
    }
   ],
   "source": [
    "r2 = model_linreg.rsquared\n",
    "print('R^2:', r2)"
   ],
   "metadata": {
    "collapsed": false,
    "ExecuteTime": {
     "end_time": "2025-05-18T17:16:51.204490Z",
     "start_time": "2025-05-18T17:16:50.884922Z"
    }
   },
   "id": "7d0422fa350c4970"
  },
  {
   "cell_type": "code",
   "execution_count": 19,
   "outputs": [],
   "source": [
    "from sklearn.metrics import mean_absolute_error, mean_squared_error, r2_score"
   ],
   "metadata": {
    "collapsed": false,
    "ExecuteTime": {
     "end_time": "2025-05-18T17:16:51.253577Z",
     "start_time": "2025-05-18T17:16:50.893029Z"
    }
   },
   "id": "e4de80decab5b4d2"
  },
  {
   "cell_type": "code",
   "execution_count": 20,
   "outputs": [
    {
     "name": "stdout",
     "output_type": "stream",
     "text": [
      "RMSE: 261.6237722008474\n",
      "R^2: 0.038026047739232904\n",
      "MAE: 4.1611325886124755\n",
      "MSE: 261.6237722008474\n"
     ]
    }
   ],
   "source": [
    "mae = mean_absolute_error(y_test_linreg, preds_new)\n",
    "mse = mean_squared_error(y_test_linreg, preds_new)\n",
    "rmse = mean_squared_error(y_test_linreg, preds_new)\n",
    "r2 = r2_score(y_test_linreg, preds_new)\n",
    "\n",
    "print(f'RMSE: {rmse}')\n",
    "print(f'R^2: {r2}')\n",
    "print(f'MAE: {mae}')\n",
    "print(f'MSE: {mse}')"
   ],
   "metadata": {
    "collapsed": false,
    "ExecuteTime": {
     "end_time": "2025-05-18T17:16:51.253923Z",
     "start_time": "2025-05-18T17:16:50.902597Z"
    }
   },
   "id": "f988d6283e3ec27e"
  },
  {
   "cell_type": "markdown",
   "source": [
    "# Logistic Regression"
   ],
   "metadata": {
    "collapsed": false
   },
   "id": "3089aa53e5950097"
  },
  {
   "cell_type": "code",
   "execution_count": 21,
   "outputs": [],
   "source": [
    "df_cleared_class = df.drop(columns=['years_since_2000', 'years_since_century', 'human_development_composite', 'year', 'country_code', 'country_name', 'governance_quality_index', 'internet_usage_pct', 'mobile_subscriptions_per_100', 'education_health_ratio', 'global_development_resilience_index', 'co2_intensity_per_million_gdp'])"
   ],
   "metadata": {
    "collapsed": false,
    "ExecuteTime": {
     "end_time": "2025-05-18T17:16:51.254765Z",
     "start_time": "2025-05-18T17:16:50.906363Z"
    }
   },
   "id": "f41fb8b1c4615c2c"
  },
  {
   "cell_type": "code",
   "execution_count": 22,
   "outputs": [],
   "source": [
    "X_class = df_cleared_class.loc[:, df_cleared_class.columns != 'is_pandemic_period']\n",
    "y_class = df_cleared_class.loc[:, ['is_pandemic_period']]"
   ],
   "metadata": {
    "collapsed": false,
    "ExecuteTime": {
     "end_time": "2025-05-18T17:16:51.254875Z",
     "start_time": "2025-05-18T17:16:50.912533Z"
    }
   },
   "id": "5d7b6083471f7b0d"
  },
  {
   "cell_type": "code",
   "execution_count": 23,
   "outputs": [],
   "source": [
    "X_train_logreg, X_test_logreg, y_train_logreg, y_test_logreg = train_test_split(X_class, y_class, test_size=0.3, random_state=42)"
   ],
   "metadata": {
    "collapsed": false,
    "ExecuteTime": {
     "end_time": "2025-05-18T17:16:51.254952Z",
     "start_time": "2025-05-18T17:16:50.917784Z"
    }
   },
   "id": "eb00d51e145bc0a2"
  },
  {
   "cell_type": "code",
   "execution_count": 24,
   "outputs": [],
   "source": [
    "from sklearn.linear_model import LogisticRegression\n",
    "from sklearn.model_selection import train_test_split\n",
    "from sklearn.metrics import accuracy_score, roc_auc_score, log_loss"
   ],
   "metadata": {
    "collapsed": false,
    "ExecuteTime": {
     "end_time": "2025-05-18T17:16:51.308122Z",
     "start_time": "2025-05-18T17:16:50.925592Z"
    }
   },
   "id": "5edc8cce5a9adfb2"
  },
  {
   "cell_type": "markdown",
   "source": [
    "## Logistic regression with LBFGS, L2 regulirization, tolerance 0.001, Regularization factor - 1/C = 0.05 \n",
    "\n",
    "\\begin{aligned}\n",
    "& \\text{Input: Initial guess } w_0, \\text{ parameters } m \\\\\n",
    "& \\text{Initialize: } H_0 = I \\text{ (identity matrix)}, s_0 = \\text{undefined}, y_0 = \\text{undefined} \\\\\n",
    "& \\text{For } k = 1, 2, \\dots \\text{ until convergence:} \\\\\n",
    "& \\quad 1. \\text{Compute the gradient: } g_k = \\nabla f(w_{k-1}) \\\\\n",
    "& \\quad 2. \\text{Compute the search direction: } p_k = -H_{k-1} g_k \\\\\n",
    "& \\quad 3. \\text{Perform a line search to find a step size } \\alpha_k > 0 \\text{ such that } f(w_{k-1} + \\alpha_k p_k) \\text{ is sufficiently decreased.} \\\\\n",
    "& \\quad 4. \\text{Update the parameters: } w_k = w_{k-1} + \\alpha_k p_k \\\\\n",
    "& \\quad 5. \\text{Compute } s_{k-1} = w_k - w_{k-1} = \\alpha_k p_k \\\\\n",
    "& \\quad 6. \\text{Compute } y_{k-1} = g_k - g_{k-1} \\\\\n",
    "& \\quad 7. \\text{Update the inverse Hessian approximation } H_k \\text{ using the L-BFGS update rule based on } (s_{k-1}, y_{k-1}) \\text{ and potentially the } m \\text{ most recent pairs.} \\\\\n",
    "& \\quad \\quad \\text{The two-loop recursion for updating } H_k \\text{ efficiently is often used here.} \\\\\n",
    "& \\text{Output: } w_k \\text{ (the approximate minimizer)}\n",
    "\\end{aligned}"
   ],
   "metadata": {
    "collapsed": false
   },
   "id": "a94540dd6850010c"
  },
  {
   "cell_type": "code",
   "execution_count": 25,
   "outputs": [
    {
     "name": "stdout",
     "output_type": "stream",
     "text": [
      "Accuracy: 0.9064187162567486\n",
      "ROC AUC: 0.32045087327844884\n",
      "Log Loss: 0.5444725878276483\n"
     ]
    },
    {
     "name": "stderr",
     "output_type": "stream",
     "text": [
      "/Users/Fattakh/Documents/GitHub/avalon-api/.venv/lib/python3.11/site-packages/sklearn/utils/validation.py:1408: DataConversionWarning: A column-vector y was passed when a 1d array was expected. Please change the shape of y to (n_samples, ), for example using ravel().\n",
      "  y = column_or_1d(y, warn=True)\n",
      "/Users/Fattakh/Documents/GitHub/avalon-api/.venv/lib/python3.11/site-packages/sklearn/linear_model/_logistic.py:465: ConvergenceWarning: lbfgs failed to converge (status=1):\n",
      "STOP: TOTAL NO. OF ITERATIONS REACHED LIMIT.\n",
      "\n",
      "Increase the number of iterations (max_iter) or scale the data as shown in:\n",
      "    https://scikit-learn.org/stable/modules/preprocessing.html\n",
      "Please also refer to the documentation for alternative solver options:\n",
      "    https://scikit-learn.org/stable/modules/linear_model.html#logistic-regression\n",
      "  n_iter_i = _check_optimize_result(\n"
     ]
    }
   ],
   "source": [
    "model_logit = LogisticRegression(penalty='l2', tol=1e-4, C=20, solver='lbfgs')\n",
    "model_logit.fit(X_train_logreg, y_train_logreg)\n",
    "\n",
    "probs = model_logit.predict_proba(X_test_logreg)[:, 1]\n",
    "preds = model_logit.predict(X_test_logreg)\n",
    "\n",
    "print('Accuracy:', accuracy_score(y_test_logreg, preds))\n",
    "print('ROC AUC:', roc_auc_score(y_test_logreg, probs))\n",
    "print('Log Loss:', log_loss(y_test_logreg, probs))"
   ],
   "metadata": {
    "collapsed": false,
    "ExecuteTime": {
     "end_time": "2025-05-18T17:16:51.308971Z",
     "start_time": "2025-05-18T17:16:50.941296Z"
    }
   },
   "id": "bd77e15d6c5c1321"
  },
  {
   "cell_type": "markdown",
   "source": [
    "## Logistic regression with saga, elasticnet, tolerance 0.01, Regularization factor - 1/C = 0.05, l1_ration=0.7\n",
    "Apparently in those kind of economical and high numerical dimension what really matters it is solver, how actually the gradient in built, is it counting all numerical features, or trying avoid some. We can actually see that Saga performing better than LBFGS, because of stochastic nature of SAGA and elasticnet regulirization factor. Moreover, SAGA saving information of previous step gradients, it is giving better performance of gradient how to understand the distribution and loss function antology. \n",
    "$$\n",
    "\\min_{w} \\left[ f(w) = \\frac{1}{n} \\sum_{i=1}^{n} f_i(w) + \\lambda R(w) \\right]\n",
    "$$\n",
    "\n",
    "$$\n",
    "w^{k+1} = w^k - \\eta \\left( \\nabla f_j(w^k) - \\alpha_j + \\frac{1}{n} \\sum_{i=1}^n \\alpha_i + \\lambda \\nabla R(w^k) \\right)\n",
    "$$\n"
   ],
   "metadata": {
    "collapsed": false
   },
   "id": "ecbcee6b25fbdfe"
  },
  {
   "cell_type": "code",
   "execution_count": 26,
   "outputs": [
    {
     "name": "stdout",
     "output_type": "stream",
     "text": [
      "Accuracy: 0.9508098380323935\n",
      "ROC AUC: 0.3973070708625067\n",
      "Log Loss: 0.6220758948246078\n"
     ]
    },
    {
     "name": "stderr",
     "output_type": "stream",
     "text": [
      "/Users/Fattakh/Documents/GitHub/avalon-api/.venv/lib/python3.11/site-packages/sklearn/utils/validation.py:1408: DataConversionWarning: A column-vector y was passed when a 1d array was expected. Please change the shape of y to (n_samples, ), for example using ravel().\n",
      "  y = column_or_1d(y, warn=True)\n"
     ]
    }
   ],
   "source": [
    "model_logit = LogisticRegression(penalty='elasticnet', tol=1e-3, C=100, solver='saga', l1_ratio=0.7)\n",
    "model_logit.fit(X_train_logreg, y_train_logreg)\n",
    "\n",
    "probs = model_logit.predict_proba(X_test_logreg)[:, 1]\n",
    "preds = model_logit.predict(X_test_logreg)\n",
    "\n",
    "print('Accuracy:', accuracy_score(y_test_logreg, preds))\n",
    "print('ROC AUC:', roc_auc_score(y_test_logreg, probs))\n",
    "print('Log Loss:', log_loss(y_test_logreg, probs))"
   ],
   "metadata": {
    "collapsed": false,
    "ExecuteTime": {
     "end_time": "2025-05-18T17:16:51.310648Z",
     "start_time": "2025-05-18T17:16:51.032497Z"
    }
   },
   "id": "dbfba48496e6c852"
  },
  {
   "cell_type": "code",
   "execution_count": 27,
   "outputs": [],
   "source": [
    "X_train_clf, X_test_clf, y_train_clf, y_test_clf = train_test_split(X_class, y_class, test_size=0.3, random_state=42)"
   ],
   "metadata": {
    "collapsed": false,
    "ExecuteTime": {
     "end_time": "2025-05-18T17:16:51.310867Z",
     "start_time": "2025-05-18T17:16:51.119508Z"
    }
   },
   "id": "e42710d9d6f91614"
  },
  {
   "cell_type": "markdown",
   "source": [
    "# Decision Tree Classifier"
   ],
   "metadata": {
    "collapsed": false
   },
   "id": "883820329bc220d4"
  },
  {
   "cell_type": "code",
   "execution_count": 28,
   "outputs": [],
   "source": [
    "from sklearn.tree import DecisionTreeClassifier, DecisionTreeRegressor\n",
    "from sklearn.metrics import accuracy_score, mean_squared_error, mean_absolute_error, r2_score"
   ],
   "metadata": {
    "collapsed": false,
    "ExecuteTime": {
     "end_time": "2025-05-18T17:16:51.311005Z",
     "start_time": "2025-05-18T17:16:51.129173Z"
    }
   },
   "id": "8a5b01f12e516548"
  },
  {
   "cell_type": "code",
   "execution_count": 29,
   "outputs": [
    {
     "name": "stdout",
     "output_type": "stream",
     "text": [
      "Best k: 5 with f1 score: 0.9781\n"
     ]
    },
    {
     "data": {
      "text/plain": "<Figure size 640x480 with 1 Axes>",
      "image/png": "[encoded data removed]"
     },
     "metadata": {},
     "output_type": "display_data"
    }
   ],
   "source": [
    "X_train_tree_clf = X_train_clf\n",
    "y_train_tree_clf = np.ravel(y_train_clf)\n",
    "\n",
    "from sklearn.model_selection import cross_val_score\n",
    "\n",
    "cv_scores_decisionTree_clf = []\n",
    "\n",
    "max_depth_range = range(1, 26)\n",
    "\n",
    "for i in max_depth_range:\n",
    "    tree_clf = DecisionTreeClassifier(max_depth=i, random_state=42, criterion='entropy')\n",
    "    scores = cross_val_score(tree_clf, X_train_tree_clf, y_train_tree_clf, cv=5, scoring='f1')\n",
    "    cv_scores_decisionTree_clf.append(scores.mean())\n",
    "    i+=5\n",
    "\n",
    "best_k = max_depth_range[np.argmax(cv_scores_decisionTree_clf)]\n",
    "print(f'Best k: {best_k} with f1 score: {max(cv_scores_decisionTree_clf):.4f}')\n",
    "\n",
    "plt.plot(max_depth_range, cv_scores_decisionTree_clf, marker='o')\n",
    "plt.xlabel('k')\n",
    "plt.ylabel('CV f1_score')\n",
    "plt.title('Decision Tree Classifier Cross-Validation f1_score')\n",
    "plt.grid(True)\n",
    "plt.show()"
   ],
   "metadata": {
    "collapsed": false,
    "ExecuteTime": {
     "end_time": "2025-05-18T17:16:55.603527Z",
     "start_time": "2025-05-18T17:16:51.174572Z"
    }
   },
   "id": "3b06fa184afdc86f"
  },
  {
   "cell_type": "markdown",
   "source": [
    "# Decision Tree Regressor"
   ],
   "metadata": {
    "collapsed": false
   },
   "id": "f52bcfd4929fd9be"
  },
  {
   "cell_type": "code",
   "execution_count": 30,
   "outputs": [
    {
     "name": "stdout",
     "output_type": "stream",
     "text": [
      "Best k: 20 with d2_absolute_error score: 0.6507\n"
     ]
    },
    {
     "data": {
      "text/plain": "<Figure size 640x480 with 1 Axes>",
      "image/png": "[encoded data removed]"
     },
     "metadata": {},
     "output_type": "display_data"
    }
   ],
   "source": [
    "X_train_tree_reg = X_train_linreg\n",
    "y_train_tree_reg = np.ravel(y_train_linreg)\n",
    "\n",
    "from sklearn.model_selection import cross_val_score\n",
    "\n",
    "cv_scores_decisionTree_reg = []\n",
    "\n",
    "max_depth_range = range(1, 26)\n",
    "\n",
    "for i in max_depth_range:\n",
    "    tree_reg = DecisionTreeRegressor(max_depth=i, random_state=42, criterion='absolute_error')\n",
    "    scores = cross_val_score(tree_reg, X_train_tree_reg, y_train_tree_reg, cv=5, scoring='d2_absolute_error_score')\n",
    "    cv_scores_decisionTree_reg.append(scores.mean())\n",
    "    i+=5\n",
    "\n",
    "best_k = max_depth_range[np.argmax(cv_scores_decisionTree_reg)]\n",
    "print(f'Best k: {best_k} with d2_absolute_error score: {max(cv_scores_decisionTree_reg):.4f}')\n",
    "\n",
    "plt.plot(max_depth_range, cv_scores_decisionTree_reg, marker='o')\n",
    "plt.xlabel('k')\n",
    "plt.ylabel('CV absolute_error')\n",
    "plt.title('Decision Tree Regressor Cross-Validation absolute error')\n",
    "plt.grid(True)\n",
    "plt.show()"
   ],
   "metadata": {
    "collapsed": false,
    "ExecuteTime": {
     "end_time": "2025-05-18T17:20:30.371266Z",
     "start_time": "2025-05-18T17:16:55.601649Z"
    }
   },
   "id": "a578c7855b07622e"
  },
  {
   "cell_type": "markdown",
   "source": [
    "# Random Forest"
   ],
   "metadata": {
    "collapsed": false
   },
   "id": "43189b7c3a771cbf"
  },
  {
   "cell_type": "code",
   "execution_count": 32,
   "outputs": [
    {
     "name": "stdout",
     "output_type": "stream",
     "text": [
      "Accuracy: 0.9994001199760048\n"
     ]
    }
   ],
   "source": [
    "from sklearn.ensemble import RandomForestClassifier, RandomForestRegressor\n",
    "\n",
    "y_train_clf = np.ravel(y_train_clf)\n",
    "\n",
    "forest_clf = RandomForestClassifier(n_estimators=50, max_depth=5, random_state=42, criterion='entropy')\n",
    "forest_clf.fit(X_train_clf, y_train_clf)\n",
    "y_pred_forest_clf = forest_clf.predict(X_test_clf)\n",
    "\n",
    "print('Accuracy:', accuracy_score(y_test_clf, y_pred_forest_clf) )"
   ],
   "metadata": {
    "collapsed": false,
    "ExecuteTime": {
     "end_time": "2025-05-18T17:21:21.664607Z",
     "start_time": "2025-05-18T17:21:21.437970Z"
    }
   },
   "id": "a86c9417bee00047"
  },
  {
   "cell_type": "code",
   "execution_count": 33,
   "outputs": [
    {
     "name": "stdout",
     "output_type": "stream",
     "text": [
      "MAE: 3.0555189593971828\n"
     ]
    }
   ],
   "source": [
    "y_train_tree_reg = np.ravel(y_train_tree_reg)\n",
    "\n",
    "reg = RandomForestRegressor(n_estimators=5, max_depth=5, random_state=42, criterion='absolute_error')\n",
    "reg.fit(X_train_tree_reg, y_train_tree_reg)\n",
    "y_pred_forest_reg = reg.predict(X_test_linreg)\n",
    "\n",
    "print('MAE:', mean_absolute_error(y_test_linreg, y_pred_forest_reg))"
   ],
   "metadata": {
    "collapsed": false,
    "ExecuteTime": {
     "end_time": "2025-05-18T17:21:28.546597Z",
     "start_time": "2025-05-18T17:21:23.269156Z"
    }
   },
   "id": "28cca250c4663783"
  },
  {
   "cell_type": "markdown",
   "source": [
    "# Naive Bayess Classifier"
   ],
   "metadata": {
    "collapsed": false
   },
   "id": "6adfda88c7e2a3dc"
  },
  {
   "cell_type": "code",
   "execution_count": 34,
   "outputs": [
    {
     "name": "stdout",
     "output_type": "stream",
     "text": [
      "Accuracy: 0.9070185962807439\n"
     ]
    }
   ],
   "source": [
    "from sklearn.naive_bayes import GaussianNB\n",
    "from sklearn.preprocessing import LabelEncoder\n",
    "\n",
    "X_NB = X_class\n",
    "y_NB = np.ravel(y_class)\n",
    "\n",
    "X_train_NB, X_test_NB, y_train_NB, y_test_NB = train_test_split(X_NB, y_NB, random_state=42, test_size=0.3)\n",
    "\n",
    "\n",
    "NB = GaussianNB()\n",
    "NB.fit(X_train_NB, y_train_NB)\n",
    "y_pred_NB = NB.predict(X_test_NB)\n",
    "\n",
    "print('Accuracy:', accuracy_score(y_test_NB, y_pred_NB))"
   ],
   "metadata": {
    "collapsed": false,
    "ExecuteTime": {
     "end_time": "2025-05-18T17:21:31.794702Z",
     "start_time": "2025-05-18T17:21:31.746316Z"
    }
   },
   "id": "8297aafb2f9d4105"
  },
  {
   "cell_type": "markdown",
   "source": [
    "## Results of Naive Bayes Classifier showing that still the dataset having really good composition and distribution, extremely predictable, cleared from colinearity, having thorough feature clearing, and numerical nature. Nevertheless, we can assume that this high numerical dependence giving such a low sensivity for events and probability distribution for this type of dataset. During the whole analysis we can mark up that high level of numerical nature of dataset giving outstanding results for region classifying and regression, but in a case of probability classifying it gives gradually lower results of Accuracy."
   ],
   "metadata": {
    "collapsed": false
   },
   "id": "75a3fb56c37feb71"
  },
  {
   "cell_type": "markdown",
   "source": [
    "# kNN"
   ],
   "metadata": {
    "collapsed": false
   },
   "id": "d2b304319e8ba359"
  },
  {
   "cell_type": "code",
   "execution_count": 35,
   "outputs": [
    {
     "name": "stdout",
     "output_type": "stream",
     "text": [
      "Best k: 9 with accuracy: 0.9525\n"
     ]
    },
    {
     "data": {
      "text/plain": "<Figure size 640x480 with 1 Axes>",
      "image/png": "[encoded data removed]"
     },
     "metadata": {},
     "output_type": "display_data"
    },
    {
     "name": "stdout",
     "output_type": "stream",
     "text": [
      "[np.float64(0.9082042556773663), np.float64(0.9451032513323275), np.float64(0.9490634854852391), np.float64(0.9521237915158421), np.float64(0.9524838275194425), np.float64(0.9524838275194425), np.float64(0.9524838275194425), np.float64(0.9524838275194425), np.float64(0.9524838275194425), np.float64(0.9524838275194425), np.float64(0.9524838275194425)]\n"
     ]
    }
   ],
   "source": [
    "from sklearn.neighbors import KNeighborsClassifier, KNeighborsRegressor\n",
    "from sklearn.model_selection import cross_val_score\n",
    "\n",
    "k_range = [i for i in range(1, 22) if i % 2 != 0]\n",
    "cv_scores_knn_clf = []\n",
    "\n",
    "X_knn_clf = X_class\n",
    "y_knn_clf = np.ravel(y_class)\n",
    "\n",
    "\n",
    "for k in k_range:\n",
    "    kNN_clf = KNeighborsClassifier(n_neighbors=k, metric='manhattan')\n",
    "    scores = cross_val_score(kNN_clf, X_knn_clf, y_knn_clf, cv=5, scoring='accuracy')\n",
    "    cv_scores_knn_clf.append(scores.mean())\n",
    "\n",
    "best_k = k_range[np.argmax(cv_scores_knn_clf)]\n",
    "print(f'Best k: {best_k} with accuracy: {max(cv_scores_knn_clf):.4f}')\n",
    "\n",
    "plt.plot(k_range, cv_scores_knn_clf, marker='o')\n",
    "plt.xlabel('k')\n",
    "plt.ylabel('CV Accuracy')\n",
    "plt.title('kNN_clf Cross-Validation Accuracy')\n",
    "plt.grid(True)\n",
    "plt.show()\n",
    "print(cv_scores_knn_clf)"
   ],
   "metadata": {
    "collapsed": false,
    "ExecuteTime": {
     "end_time": "2025-05-18T17:21:41.949222Z",
     "start_time": "2025-05-18T17:21:39.448388Z"
    }
   },
   "id": "aeb138d7f9e53876"
  },
  {
   "cell_type": "code",
   "execution_count": 36,
   "outputs": [
    {
     "name": "stdout",
     "output_type": "stream",
     "text": [
      "Best k (based on MAE): 19 with MAE: 4.8424\n"
     ]
    },
    {
     "data": {
      "text/plain": "<Figure size 640x480 with 1 Axes>",
      "image/png": "[encoded data removed]"
     },
     "metadata": {},
     "output_type": "display_data"
    },
    {
     "name": "stdout",
     "output_type": "stream",
     "text": [
      "[np.float64(5.6576459750240655), np.float64(5.190054998433989), np.float64(5.1804115150760675), np.float64(5.0738978441802915), np.float64(5.086218528025711), np.float64(5.0665633329449085), np.float64(4.964934333956842), np.float64(4.916898182574987), np.float64(4.884159710279471), np.float64(4.842358534082274), np.float64(4.873966600024183)]\n"
     ]
    }
   ],
   "source": [
    "from sklearn.neighbors import KNeighborsClassifier, KNeighborsRegressor\n",
    "from sklearn.model_selection import cross_val_score\n",
    "import numpy as np\n",
    "import matplotlib.pyplot as plt\n",
    "\n",
    "k_range = [i for i in range(1, 22) if i%2!=0]\n",
    "cv_scores_knn_reg = []\n",
    "\n",
    "X_knn_reg = X_reg\n",
    "y_knn_reg = y_reg\n",
    "\n",
    "\n",
    "for k in k_range:\n",
    "    kNN_reg = KNeighborsRegressor(n_neighbors=k, metric='minkowski')\n",
    "    scores = cross_val_score(kNN_reg, X_knn_reg, y_knn_reg, cv=5, scoring='neg_mean_absolute_error')\n",
    "    cv_scores_knn_reg.append(scores.mean())\n",
    "\n",
    "best_k_mae = k_range[np.argmax(cv_scores_knn_reg)]\n",
    "best_neg_mae = max(cv_scores_knn_reg)\n",
    "best_mae = -best_neg_mae \n",
    "\n",
    "print(f'Best k (based on MAE): {best_k_mae} with MAE: {best_mae:.4f}')\n",
    "\n",
    "plt.plot(k_range, [-score for score in cv_scores_knn_reg], marker='o') # Plot the actual MAE values\n",
    "plt.xlabel('k')\n",
    "plt.ylabel('CV MAE')\n",
    "plt.title('kNN_reg Cross-Validation MAE')\n",
    "plt.grid(True)\n",
    "plt.show()\n",
    "\n",
    "cv_scores_knn_reg_cleared = [-score for score in cv_scores_knn_reg]\n",
    "print(cv_scores_knn_reg_cleared)"
   ],
   "metadata": {
    "collapsed": false,
    "ExecuteTime": {
     "end_time": "2025-05-18T17:21:52.585652Z",
     "start_time": "2025-05-18T17:21:51.145575Z"
    }
   },
   "id": "79047d995be5ac4b"
  },
  {
   "cell_type": "markdown",
   "source": [
    "# SVC"
   ],
   "metadata": {
    "collapsed": false
   },
   "id": "d1c80845ccd48662"
  },
  {
   "cell_type": "code",
   "execution_count": null,
   "outputs": [],
   "source": [
    "from sklearn.svm import SVC\n",
    "\n",
    "SVC = SVC()"
   ],
   "metadata": {
    "collapsed": false,
    "ExecuteTime": {
     "start_time": "2025-05-18T17:20:30.739526Z"
    }
   },
   "id": "7775932d341db76b"
  }
 ],
 "metadata": {
  "kernelspec": {
   "display_name": "Python 3",
   "language": "python",
   "name": "python3"
  },
  "language_info": {
   "codemirror_mode": {
    "name": "ipython",
    "version": 2
   },
   "file_extension": ".py",
   "mimetype": "text/x-python",
   "name": "python",
   "nbconvert_exporter": "python",
   "pygments_lexer": "ipython2",
   "version": "2.7.6"
  }
 },
 "nbformat": 4,
 "nbformat_minor": 5
}
